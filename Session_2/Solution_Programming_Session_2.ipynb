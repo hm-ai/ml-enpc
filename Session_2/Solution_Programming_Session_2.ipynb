{
  "nbformat": 4,
  "nbformat_minor": 0,
  "metadata": {
    "colab": {
      "provenance": []
    },
    "kernelspec": {
      "name": "python3",
      "display_name": "Python 3"
    },
    "language_info": {
      "name": "python"
    }
  },
  "cells": [
    {
      "cell_type": "markdown",
      "metadata": {
        "id": "A84sSMXE3hbZ"
      },
      "source": [
        "# **<center>Practical Implementation </center>**\n",
        "\n",
        "\n",
        "## <center> Programming Session 2 - LSTM Based Classification Model </center>\n",
        "\n",
        "<table class=\"tfo-notebook-buttons\" align=\"center\">\n",
        "  <td>\n",
        "    <a target=\"_blank\" href=\"https://hm-ai.github.io/Practical-Implementations-ENPC/\">\n",
        "    <img src=\"https://drive.google.com/uc?export=view&id=12t-JTO4co2ZDxqdmNOOZG104izf5bSye\" height=\"50\"/>\n",
        "    Course page</a>\n",
        "</td>\n",
        "  <td>\n",
        "    <a target=\"_blank\" href=\"https://colab.research.google.com/drive/18rbyPk4ixHwTiU7HdLr7pAEqR-6bxZWY?usp=sharing\"><img src=\"https://www.tensorflow.org/images/colab_logo_32px.png\" height=\"50\" />Run in Google Colab</a>\n",
        "  </td>\n",
        "</table>\n"
      ]
    },
    {
      "cell_type": "markdown",
      "metadata": {
        "id": "48GJETGg1Aow"
      },
      "source": [
        "\n",
        "\n",
        "The Objective of this session is to create an LSTM based model for news classification.\n",
        "\n",
        "\n",
        "The dataset is the BBC news articles (Source: [here](http://mlg.ucd.ie/files/publications/greene06icml.pdf))\n",
        "\n",
        "\n",
        "Each Text is associated with one of the following categories:\n",
        "\n",
        "* tech\n",
        "* business\n",
        "* sport\n",
        "* entertainment\n",
        "* politics"
      ]
    },
    {
      "cell_type": "code",
      "execution_count": null,
      "metadata": {
        "id": "kCcWOvm03Zxu"
      },
      "outputs": [],
      "source": [
        "# Import basic libraries\n",
        "import matplotlib.pyplot as plt # for plotting\n",
        "import numpy as np # for manipulating arrays\n",
        "import tensorflow as tf # for creating Neural Networks, we will use it to load data\n",
        "import os\n",
        "import pandas as pd\n",
        "plt.style.use('dark_background') # to adapt the colors to a dark background\n",
        "from IPython.display import Image # for showing graphs from the lectures"
      ]
    },
    {
      "cell_type": "markdown",
      "metadata": {
        "id": "ZEg4IWrPY6QE"
      },
      "source": [
        "# 1. Preprocessing the Data"
      ]
    },
    {
      "cell_type": "markdown",
      "metadata": {
        "id": "-5QXO_b895mj"
      },
      "source": [
        "The objective of this session is to load the data and preprocess it into a `(N, T)` tensor:\n",
        "\n",
        "* `N` is the number of samples.\n",
        "* `T` is the length of the sequences.\n",
        "\n",
        "All the sequences should be of the same length.\n",
        "\n",
        "* First, we need to decide what should be the length `T` (another hyperparameter)\n",
        "* Then, for each sequence:\n",
        "  * If it's shorter than `T`, the sequence is padded with zeros.\n",
        "  * If it's longer than `T`, the sequence is truncated.  \n"
      ]
    },
    {
      "cell_type": "markdown",
      "metadata": {
        "id": "gpxrWwnA0Pam"
      },
      "source": [
        "<center><img width=“700\" src = \"https://drive.google.com/uc?export=view&id=1GLwOZWrMiprZpN8jijTkLO_GVpgmi9MM\"></center>"
      ]
    },
    {
      "cell_type": "markdown",
      "metadata": {
        "id": "2rsm8LyYB7UF"
      },
      "source": [
        "You can find the data in the following [link](https://www.kaggle.com/c/jigsaw-toxic-comment-classification-challenge/data). You can then store the file `train.csv` in a directory called `data`.\n",
        "\n",
        "The dataset can be found in the folder `data`. The csv file is named `bbc-text.csv`\n",
        "\n",
        "You will find the following columns:\n",
        "\n",
        "* `text` contains the news.\n",
        "\n",
        "* `category` is an element of the following categories:\n",
        "  * tech\n",
        "  * business\n",
        "  * sport\n",
        "  * entertainment\n",
        "  * politics\n",
        "\n",
        "\n"
      ]
    },
    {
      "cell_type": "markdown",
      "metadata": {
        "id": "d3uVYHqpwNLt"
      },
      "source": [
        "---\n",
        "<font color=green>Q1:</font>\n",
        "<br><font color='green'>\n",
        "Load the dataframe and call the dataframe `df` and store the elements in the column `text` in a list called `texts`\n",
        "</font>\n",
        "\n",
        "---"
      ]
    },
    {
      "cell_type": "code",
      "execution_count": null,
      "metadata": {
        "id": "qg0YioxaZnPJ"
      },
      "outputs": [],
      "source": [
        "url='https://drive.google.com/uc?id=1KPTV36AVXboK2v9oECJUu06U1PTugc_k'\n",
        "df = pd.read_csv(url)"
      ]
    },
    {
      "cell_type": "code",
      "execution_count": null,
      "metadata": {
        "colab": {
          "base_uri": "https://localhost:8080/",
          "height": 363
        },
        "id": "cCuXuJRAunhA",
        "outputId": "7d6678ea-6f76-4b2d-c6c4-8434a5a58d1a"
      },
      "outputs": [
        {
          "output_type": "execute_result",
          "data": {
            "text/plain": [
              "        category                                               text\n",
              "0           tech  tv future in the hands of viewers with home th...\n",
              "1       business  worldcom boss  left books alone  former worldc...\n",
              "2          sport  tigers wary of farrell  gamble  leicester say ...\n",
              "3          sport  yeading face newcastle in fa cup premiership s...\n",
              "4  entertainment  ocean s twelve raids box office ocean s twelve...\n",
              "5       politics  howard hits back at mongrel jibe michael howar...\n",
              "6       politics  blair prepares to name poll date tony blair is...\n",
              "7          sport  henman hopes ended in dubai third seed tim hen...\n",
              "8          sport  wilkinson fit to face edinburgh england captai...\n",
              "9  entertainment  last star wars  not for children  the sixth an..."
            ],
            "text/html": [
              "\n",
              "  <div id=\"df-0c20989b-4c62-4150-bac1-6903d3bd90ec\" class=\"colab-df-container\">\n",
              "    <div>\n",
              "<style scoped>\n",
              "    .dataframe tbody tr th:only-of-type {\n",
              "        vertical-align: middle;\n",
              "    }\n",
              "\n",
              "    .dataframe tbody tr th {\n",
              "        vertical-align: top;\n",
              "    }\n",
              "\n",
              "    .dataframe thead th {\n",
              "        text-align: right;\n",
              "    }\n",
              "</style>\n",
              "<table border=\"1\" class=\"dataframe\">\n",
              "  <thead>\n",
              "    <tr style=\"text-align: right;\">\n",
              "      <th></th>\n",
              "      <th>category</th>\n",
              "      <th>text</th>\n",
              "    </tr>\n",
              "  </thead>\n",
              "  <tbody>\n",
              "    <tr>\n",
              "      <th>0</th>\n",
              "      <td>tech</td>\n",
              "      <td>tv future in the hands of viewers with home th...</td>\n",
              "    </tr>\n",
              "    <tr>\n",
              "      <th>1</th>\n",
              "      <td>business</td>\n",
              "      <td>worldcom boss  left books alone  former worldc...</td>\n",
              "    </tr>\n",
              "    <tr>\n",
              "      <th>2</th>\n",
              "      <td>sport</td>\n",
              "      <td>tigers wary of farrell  gamble  leicester say ...</td>\n",
              "    </tr>\n",
              "    <tr>\n",
              "      <th>3</th>\n",
              "      <td>sport</td>\n",
              "      <td>yeading face newcastle in fa cup premiership s...</td>\n",
              "    </tr>\n",
              "    <tr>\n",
              "      <th>4</th>\n",
              "      <td>entertainment</td>\n",
              "      <td>ocean s twelve raids box office ocean s twelve...</td>\n",
              "    </tr>\n",
              "    <tr>\n",
              "      <th>5</th>\n",
              "      <td>politics</td>\n",
              "      <td>howard hits back at mongrel jibe michael howar...</td>\n",
              "    </tr>\n",
              "    <tr>\n",
              "      <th>6</th>\n",
              "      <td>politics</td>\n",
              "      <td>blair prepares to name poll date tony blair is...</td>\n",
              "    </tr>\n",
              "    <tr>\n",
              "      <th>7</th>\n",
              "      <td>sport</td>\n",
              "      <td>henman hopes ended in dubai third seed tim hen...</td>\n",
              "    </tr>\n",
              "    <tr>\n",
              "      <th>8</th>\n",
              "      <td>sport</td>\n",
              "      <td>wilkinson fit to face edinburgh england captai...</td>\n",
              "    </tr>\n",
              "    <tr>\n",
              "      <th>9</th>\n",
              "      <td>entertainment</td>\n",
              "      <td>last star wars  not for children  the sixth an...</td>\n",
              "    </tr>\n",
              "  </tbody>\n",
              "</table>\n",
              "</div>\n",
              "    <div class=\"colab-df-buttons\">\n",
              "\n",
              "  <div class=\"colab-df-container\">\n",
              "    <button class=\"colab-df-convert\" onclick=\"convertToInteractive('df-0c20989b-4c62-4150-bac1-6903d3bd90ec')\"\n",
              "            title=\"Convert this dataframe to an interactive table.\"\n",
              "            style=\"display:none;\">\n",
              "\n",
              "  <svg xmlns=\"http://www.w3.org/2000/svg\" height=\"24px\" viewBox=\"0 -960 960 960\">\n",
              "    <path d=\"M120-120v-720h720v720H120Zm60-500h600v-160H180v160Zm220 220h160v-160H400v160Zm0 220h160v-160H400v160ZM180-400h160v-160H180v160Zm440 0h160v-160H620v160ZM180-180h160v-160H180v160Zm440 0h160v-160H620v160Z\"/>\n",
              "  </svg>\n",
              "    </button>\n",
              "\n",
              "  <style>\n",
              "    .colab-df-container {\n",
              "      display:flex;\n",
              "      gap: 12px;\n",
              "    }\n",
              "\n",
              "    .colab-df-convert {\n",
              "      background-color: #E8F0FE;\n",
              "      border: none;\n",
              "      border-radius: 50%;\n",
              "      cursor: pointer;\n",
              "      display: none;\n",
              "      fill: #1967D2;\n",
              "      height: 32px;\n",
              "      padding: 0 0 0 0;\n",
              "      width: 32px;\n",
              "    }\n",
              "\n",
              "    .colab-df-convert:hover {\n",
              "      background-color: #E2EBFA;\n",
              "      box-shadow: 0px 1px 2px rgba(60, 64, 67, 0.3), 0px 1px 3px 1px rgba(60, 64, 67, 0.15);\n",
              "      fill: #174EA6;\n",
              "    }\n",
              "\n",
              "    .colab-df-buttons div {\n",
              "      margin-bottom: 4px;\n",
              "    }\n",
              "\n",
              "    [theme=dark] .colab-df-convert {\n",
              "      background-color: #3B4455;\n",
              "      fill: #D2E3FC;\n",
              "    }\n",
              "\n",
              "    [theme=dark] .colab-df-convert:hover {\n",
              "      background-color: #434B5C;\n",
              "      box-shadow: 0px 1px 3px 1px rgba(0, 0, 0, 0.15);\n",
              "      filter: drop-shadow(0px 1px 2px rgba(0, 0, 0, 0.3));\n",
              "      fill: #FFFFFF;\n",
              "    }\n",
              "  </style>\n",
              "\n",
              "    <script>\n",
              "      const buttonEl =\n",
              "        document.querySelector('#df-0c20989b-4c62-4150-bac1-6903d3bd90ec button.colab-df-convert');\n",
              "      buttonEl.style.display =\n",
              "        google.colab.kernel.accessAllowed ? 'block' : 'none';\n",
              "\n",
              "      async function convertToInteractive(key) {\n",
              "        const element = document.querySelector('#df-0c20989b-4c62-4150-bac1-6903d3bd90ec');\n",
              "        const dataTable =\n",
              "          await google.colab.kernel.invokeFunction('convertToInteractive',\n",
              "                                                    [key], {});\n",
              "        if (!dataTable) return;\n",
              "\n",
              "        const docLinkHtml = 'Like what you see? Visit the ' +\n",
              "          '<a target=\"_blank\" href=https://colab.research.google.com/notebooks/data_table.ipynb>data table notebook</a>'\n",
              "          + ' to learn more about interactive tables.';\n",
              "        element.innerHTML = '';\n",
              "        dataTable['output_type'] = 'display_data';\n",
              "        await google.colab.output.renderOutput(dataTable, element);\n",
              "        const docLink = document.createElement('div');\n",
              "        docLink.innerHTML = docLinkHtml;\n",
              "        element.appendChild(docLink);\n",
              "      }\n",
              "    </script>\n",
              "  </div>\n",
              "\n",
              "\n",
              "<div id=\"df-a919066b-76ff-40be-b52d-234871ad6b73\">\n",
              "  <button class=\"colab-df-quickchart\" onclick=\"quickchart('df-a919066b-76ff-40be-b52d-234871ad6b73')\"\n",
              "            title=\"Suggest charts.\"\n",
              "            style=\"display:none;\">\n",
              "\n",
              "<svg xmlns=\"http://www.w3.org/2000/svg\" height=\"24px\"viewBox=\"0 0 24 24\"\n",
              "     width=\"24px\">\n",
              "    <g>\n",
              "        <path d=\"M19 3H5c-1.1 0-2 .9-2 2v14c0 1.1.9 2 2 2h14c1.1 0 2-.9 2-2V5c0-1.1-.9-2-2-2zM9 17H7v-7h2v7zm4 0h-2V7h2v10zm4 0h-2v-4h2v4z\"/>\n",
              "    </g>\n",
              "</svg>\n",
              "  </button>\n",
              "\n",
              "<style>\n",
              "  .colab-df-quickchart {\n",
              "      --bg-color: #E8F0FE;\n",
              "      --fill-color: #1967D2;\n",
              "      --hover-bg-color: #E2EBFA;\n",
              "      --hover-fill-color: #174EA6;\n",
              "      --disabled-fill-color: #AAA;\n",
              "      --disabled-bg-color: #DDD;\n",
              "  }\n",
              "\n",
              "  [theme=dark] .colab-df-quickchart {\n",
              "      --bg-color: #3B4455;\n",
              "      --fill-color: #D2E3FC;\n",
              "      --hover-bg-color: #434B5C;\n",
              "      --hover-fill-color: #FFFFFF;\n",
              "      --disabled-bg-color: #3B4455;\n",
              "      --disabled-fill-color: #666;\n",
              "  }\n",
              "\n",
              "  .colab-df-quickchart {\n",
              "    background-color: var(--bg-color);\n",
              "    border: none;\n",
              "    border-radius: 50%;\n",
              "    cursor: pointer;\n",
              "    display: none;\n",
              "    fill: var(--fill-color);\n",
              "    height: 32px;\n",
              "    padding: 0;\n",
              "    width: 32px;\n",
              "  }\n",
              "\n",
              "  .colab-df-quickchart:hover {\n",
              "    background-color: var(--hover-bg-color);\n",
              "    box-shadow: 0 1px 2px rgba(60, 64, 67, 0.3), 0 1px 3px 1px rgba(60, 64, 67, 0.15);\n",
              "    fill: var(--button-hover-fill-color);\n",
              "  }\n",
              "\n",
              "  .colab-df-quickchart-complete:disabled,\n",
              "  .colab-df-quickchart-complete:disabled:hover {\n",
              "    background-color: var(--disabled-bg-color);\n",
              "    fill: var(--disabled-fill-color);\n",
              "    box-shadow: none;\n",
              "  }\n",
              "\n",
              "  .colab-df-spinner {\n",
              "    border: 2px solid var(--fill-color);\n",
              "    border-color: transparent;\n",
              "    border-bottom-color: var(--fill-color);\n",
              "    animation:\n",
              "      spin 1s steps(1) infinite;\n",
              "  }\n",
              "\n",
              "  @keyframes spin {\n",
              "    0% {\n",
              "      border-color: transparent;\n",
              "      border-bottom-color: var(--fill-color);\n",
              "      border-left-color: var(--fill-color);\n",
              "    }\n",
              "    20% {\n",
              "      border-color: transparent;\n",
              "      border-left-color: var(--fill-color);\n",
              "      border-top-color: var(--fill-color);\n",
              "    }\n",
              "    30% {\n",
              "      border-color: transparent;\n",
              "      border-left-color: var(--fill-color);\n",
              "      border-top-color: var(--fill-color);\n",
              "      border-right-color: var(--fill-color);\n",
              "    }\n",
              "    40% {\n",
              "      border-color: transparent;\n",
              "      border-right-color: var(--fill-color);\n",
              "      border-top-color: var(--fill-color);\n",
              "    }\n",
              "    60% {\n",
              "      border-color: transparent;\n",
              "      border-right-color: var(--fill-color);\n",
              "    }\n",
              "    80% {\n",
              "      border-color: transparent;\n",
              "      border-right-color: var(--fill-color);\n",
              "      border-bottom-color: var(--fill-color);\n",
              "    }\n",
              "    90% {\n",
              "      border-color: transparent;\n",
              "      border-bottom-color: var(--fill-color);\n",
              "    }\n",
              "  }\n",
              "</style>\n",
              "\n",
              "  <script>\n",
              "    async function quickchart(key) {\n",
              "      const quickchartButtonEl =\n",
              "        document.querySelector('#' + key + ' button');\n",
              "      quickchartButtonEl.disabled = true;  // To prevent multiple clicks.\n",
              "      quickchartButtonEl.classList.add('colab-df-spinner');\n",
              "      try {\n",
              "        const charts = await google.colab.kernel.invokeFunction(\n",
              "            'suggestCharts', [key], {});\n",
              "      } catch (error) {\n",
              "        console.error('Error during call to suggestCharts:', error);\n",
              "      }\n",
              "      quickchartButtonEl.classList.remove('colab-df-spinner');\n",
              "      quickchartButtonEl.classList.add('colab-df-quickchart-complete');\n",
              "    }\n",
              "    (() => {\n",
              "      let quickchartButtonEl =\n",
              "        document.querySelector('#df-a919066b-76ff-40be-b52d-234871ad6b73 button');\n",
              "      quickchartButtonEl.style.display =\n",
              "        google.colab.kernel.accessAllowed ? 'block' : 'none';\n",
              "    })();\n",
              "  </script>\n",
              "</div>\n",
              "    </div>\n",
              "  </div>\n"
            ]
          },
          "metadata": {},
          "execution_count": 3
        }
      ],
      "source": [
        "df.head(10)"
      ]
    },
    {
      "cell_type": "markdown",
      "metadata": {
        "id": "iC76bjFlkLWo"
      },
      "source": [
        "The following function is used for cleaning the texts:"
      ]
    },
    {
      "cell_type": "code",
      "execution_count": null,
      "metadata": {
        "colab": {
          "base_uri": "https://localhost:8080/"
        },
        "id": "gmX-QVaPkQsv",
        "outputId": "8e915f3d-c2e2-4b95-fb3a-d2acabcc1820"
      },
      "outputs": [
        {
          "output_type": "stream",
          "name": "stderr",
          "text": [
            "[nltk_data] Downloading package stopwords to /root/nltk_data...\n",
            "[nltk_data]   Unzipping corpora/stopwords.zip.\n"
          ]
        }
      ],
      "source": [
        "# Import library\n",
        "import nltk\n",
        "nltk.download(\"stopwords\")\n",
        "from nltk.corpus import stopwords"
      ]
    },
    {
      "cell_type": "code",
      "execution_count": null,
      "metadata": {
        "colab": {
          "base_uri": "https://localhost:8080/"
        },
        "id": "kXBCKQr65XBU",
        "outputId": "daece7cf-fd42-47e4-848f-3fdbdf1fd324"
      },
      "outputs": [
        {
          "output_type": "execute_result",
          "data": {
            "text/plain": [
              "{'a',\n",
              " 'about',\n",
              " 'above',\n",
              " 'after',\n",
              " 'again',\n",
              " 'against',\n",
              " 'ain',\n",
              " 'all',\n",
              " 'am',\n",
              " 'an',\n",
              " 'and',\n",
              " 'any',\n",
              " 'are',\n",
              " 'aren',\n",
              " \"aren't\",\n",
              " 'as',\n",
              " 'at',\n",
              " 'be',\n",
              " 'because',\n",
              " 'been',\n",
              " 'before',\n",
              " 'being',\n",
              " 'below',\n",
              " 'between',\n",
              " 'both',\n",
              " 'but',\n",
              " 'by',\n",
              " 'can',\n",
              " 'couldn',\n",
              " \"couldn't\",\n",
              " 'd',\n",
              " 'did',\n",
              " 'didn',\n",
              " \"didn't\",\n",
              " 'do',\n",
              " 'does',\n",
              " 'doesn',\n",
              " \"doesn't\",\n",
              " 'doing',\n",
              " 'don',\n",
              " \"don't\",\n",
              " 'down',\n",
              " 'during',\n",
              " 'each',\n",
              " 'few',\n",
              " 'for',\n",
              " 'from',\n",
              " 'further',\n",
              " 'had',\n",
              " 'hadn',\n",
              " \"hadn't\",\n",
              " 'has',\n",
              " 'hasn',\n",
              " \"hasn't\",\n",
              " 'have',\n",
              " 'haven',\n",
              " \"haven't\",\n",
              " 'having',\n",
              " 'he',\n",
              " 'her',\n",
              " 'here',\n",
              " 'hers',\n",
              " 'herself',\n",
              " 'him',\n",
              " 'himself',\n",
              " 'his',\n",
              " 'how',\n",
              " 'i',\n",
              " 'if',\n",
              " 'in',\n",
              " 'into',\n",
              " 'is',\n",
              " 'isn',\n",
              " \"isn't\",\n",
              " 'it',\n",
              " \"it's\",\n",
              " 'its',\n",
              " 'itself',\n",
              " 'just',\n",
              " 'll',\n",
              " 'm',\n",
              " 'ma',\n",
              " 'me',\n",
              " 'mightn',\n",
              " \"mightn't\",\n",
              " 'more',\n",
              " 'most',\n",
              " 'mustn',\n",
              " \"mustn't\",\n",
              " 'my',\n",
              " 'myself',\n",
              " 'needn',\n",
              " \"needn't\",\n",
              " 'no',\n",
              " 'nor',\n",
              " 'not',\n",
              " 'now',\n",
              " 'o',\n",
              " 'of',\n",
              " 'off',\n",
              " 'on',\n",
              " 'once',\n",
              " 'only',\n",
              " 'or',\n",
              " 'other',\n",
              " 'our',\n",
              " 'ours',\n",
              " 'ourselves',\n",
              " 'out',\n",
              " 'over',\n",
              " 'own',\n",
              " 're',\n",
              " 's',\n",
              " 'same',\n",
              " 'shan',\n",
              " \"shan't\",\n",
              " 'she',\n",
              " \"she's\",\n",
              " 'should',\n",
              " \"should've\",\n",
              " 'shouldn',\n",
              " \"shouldn't\",\n",
              " 'so',\n",
              " 'some',\n",
              " 'such',\n",
              " 't',\n",
              " 'than',\n",
              " 'that',\n",
              " \"that'll\",\n",
              " 'the',\n",
              " 'their',\n",
              " 'theirs',\n",
              " 'them',\n",
              " 'themselves',\n",
              " 'then',\n",
              " 'there',\n",
              " 'these',\n",
              " 'they',\n",
              " 'this',\n",
              " 'those',\n",
              " 'through',\n",
              " 'to',\n",
              " 'too',\n",
              " 'under',\n",
              " 'until',\n",
              " 'up',\n",
              " 've',\n",
              " 'very',\n",
              " 'was',\n",
              " 'wasn',\n",
              " \"wasn't\",\n",
              " 'we',\n",
              " 'were',\n",
              " 'weren',\n",
              " \"weren't\",\n",
              " 'what',\n",
              " 'when',\n",
              " 'where',\n",
              " 'which',\n",
              " 'while',\n",
              " 'who',\n",
              " 'whom',\n",
              " 'why',\n",
              " 'will',\n",
              " 'with',\n",
              " 'won',\n",
              " \"won't\",\n",
              " 'wouldn',\n",
              " \"wouldn't\",\n",
              " 'y',\n",
              " 'you',\n",
              " \"you'd\",\n",
              " \"you'll\",\n",
              " \"you're\",\n",
              " \"you've\",\n",
              " 'your',\n",
              " 'yours',\n",
              " 'yourself',\n",
              " 'yourselves'}"
            ]
          },
          "metadata": {},
          "execution_count": 5
        }
      ],
      "source": [
        "set(stopwords.words('english'))"
      ]
    },
    {
      "cell_type": "code",
      "execution_count": null,
      "metadata": {
        "id": "NAFqtR2GkU0j"
      },
      "outputs": [],
      "source": [
        "def clean(texts):\n",
        "  clean_texts = []\n",
        "  for sequence in texts:\n",
        "    # Get the tokens\n",
        "    words = sequence.split()\n",
        "    # Keep only the words\n",
        "    alphabetic_only = [word for word in words if word.isalpha()]\n",
        "    # All tokens should be written in lowercase\n",
        "    lower_case_only = [word.lower() for word in alphabetic_only]\n",
        "    # Select the stop words from nltk\n",
        "    stopwords_nltk = set(stopwords.words('english'))\n",
        "    # Delete the stop words\n",
        "    cleaned_words = [word for word in lower_case_only if word not in stopwords_nltk]\n",
        "    # Transform the list of tokens into a long string\n",
        "    clean_sequence = ' '.join(cleaned_words)\n",
        "    # Save the result in the list clean_texts\n",
        "    clean_texts.append(clean_sequence)\n",
        "  return clean_texts"
      ]
    },
    {
      "cell_type": "markdown",
      "metadata": {
        "id": "2tX1sA-PwPn_"
      },
      "source": [
        "---\n",
        "<font color=green>Q2:</font>\n",
        "<br><font color='green'>\n",
        "Replace the column `text` with processed texts using the `clean()` function. The new column should be named `text`.\n",
        "</font>\n",
        "\n",
        "---"
      ]
    },
    {
      "cell_type": "code",
      "execution_count": null,
      "metadata": {
        "id": "DX0UInGud09L"
      },
      "outputs": [],
      "source": [
        "# Replace the column text with the processed version of it\n",
        "df[\"text\"] = clean(df.text.values)"
      ]
    },
    {
      "cell_type": "code",
      "execution_count": null,
      "metadata": {
        "colab": {
          "base_uri": "https://localhost:8080/",
          "height": 363
        },
        "id": "OAoOr_IA5xyk",
        "outputId": "097a3fb7-1863-4a11-f559-c3e2e0bff65a"
      },
      "outputs": [
        {
          "output_type": "execute_result",
          "data": {
            "text/plain": [
              "        category                                               text\n",
              "0           tech  tv future hands viewers home theatre systems p...\n",
              "1       business  worldcom boss left books alone former worldcom...\n",
              "2          sport  tigers wary farrell gamble leicester say rushe...\n",
              "3          sport  yeading face newcastle fa cup premiership side...\n",
              "4  entertainment  ocean twelve raids box office ocean twelve cri...\n",
              "5       politics  howard hits back mongrel jibe michael howard s...\n",
              "6       politics  blair prepares name poll date tony blair likel...\n",
              "7          sport  henman hopes ended dubai third seed tim henman...\n",
              "8          sport  wilkinson fit face edinburgh england captain j...\n",
              "9  entertainment  last star wars children sixth final star wars ..."
            ],
            "text/html": [
              "\n",
              "  <div id=\"df-0e372dde-5ad7-43dc-b788-755000036f68\" class=\"colab-df-container\">\n",
              "    <div>\n",
              "<style scoped>\n",
              "    .dataframe tbody tr th:only-of-type {\n",
              "        vertical-align: middle;\n",
              "    }\n",
              "\n",
              "    .dataframe tbody tr th {\n",
              "        vertical-align: top;\n",
              "    }\n",
              "\n",
              "    .dataframe thead th {\n",
              "        text-align: right;\n",
              "    }\n",
              "</style>\n",
              "<table border=\"1\" class=\"dataframe\">\n",
              "  <thead>\n",
              "    <tr style=\"text-align: right;\">\n",
              "      <th></th>\n",
              "      <th>category</th>\n",
              "      <th>text</th>\n",
              "    </tr>\n",
              "  </thead>\n",
              "  <tbody>\n",
              "    <tr>\n",
              "      <th>0</th>\n",
              "      <td>tech</td>\n",
              "      <td>tv future hands viewers home theatre systems p...</td>\n",
              "    </tr>\n",
              "    <tr>\n",
              "      <th>1</th>\n",
              "      <td>business</td>\n",
              "      <td>worldcom boss left books alone former worldcom...</td>\n",
              "    </tr>\n",
              "    <tr>\n",
              "      <th>2</th>\n",
              "      <td>sport</td>\n",
              "      <td>tigers wary farrell gamble leicester say rushe...</td>\n",
              "    </tr>\n",
              "    <tr>\n",
              "      <th>3</th>\n",
              "      <td>sport</td>\n",
              "      <td>yeading face newcastle fa cup premiership side...</td>\n",
              "    </tr>\n",
              "    <tr>\n",
              "      <th>4</th>\n",
              "      <td>entertainment</td>\n",
              "      <td>ocean twelve raids box office ocean twelve cri...</td>\n",
              "    </tr>\n",
              "    <tr>\n",
              "      <th>5</th>\n",
              "      <td>politics</td>\n",
              "      <td>howard hits back mongrel jibe michael howard s...</td>\n",
              "    </tr>\n",
              "    <tr>\n",
              "      <th>6</th>\n",
              "      <td>politics</td>\n",
              "      <td>blair prepares name poll date tony blair likel...</td>\n",
              "    </tr>\n",
              "    <tr>\n",
              "      <th>7</th>\n",
              "      <td>sport</td>\n",
              "      <td>henman hopes ended dubai third seed tim henman...</td>\n",
              "    </tr>\n",
              "    <tr>\n",
              "      <th>8</th>\n",
              "      <td>sport</td>\n",
              "      <td>wilkinson fit face edinburgh england captain j...</td>\n",
              "    </tr>\n",
              "    <tr>\n",
              "      <th>9</th>\n",
              "      <td>entertainment</td>\n",
              "      <td>last star wars children sixth final star wars ...</td>\n",
              "    </tr>\n",
              "  </tbody>\n",
              "</table>\n",
              "</div>\n",
              "    <div class=\"colab-df-buttons\">\n",
              "\n",
              "  <div class=\"colab-df-container\">\n",
              "    <button class=\"colab-df-convert\" onclick=\"convertToInteractive('df-0e372dde-5ad7-43dc-b788-755000036f68')\"\n",
              "            title=\"Convert this dataframe to an interactive table.\"\n",
              "            style=\"display:none;\">\n",
              "\n",
              "  <svg xmlns=\"http://www.w3.org/2000/svg\" height=\"24px\" viewBox=\"0 -960 960 960\">\n",
              "    <path d=\"M120-120v-720h720v720H120Zm60-500h600v-160H180v160Zm220 220h160v-160H400v160Zm0 220h160v-160H400v160ZM180-400h160v-160H180v160Zm440 0h160v-160H620v160ZM180-180h160v-160H180v160Zm440 0h160v-160H620v160Z\"/>\n",
              "  </svg>\n",
              "    </button>\n",
              "\n",
              "  <style>\n",
              "    .colab-df-container {\n",
              "      display:flex;\n",
              "      gap: 12px;\n",
              "    }\n",
              "\n",
              "    .colab-df-convert {\n",
              "      background-color: #E8F0FE;\n",
              "      border: none;\n",
              "      border-radius: 50%;\n",
              "      cursor: pointer;\n",
              "      display: none;\n",
              "      fill: #1967D2;\n",
              "      height: 32px;\n",
              "      padding: 0 0 0 0;\n",
              "      width: 32px;\n",
              "    }\n",
              "\n",
              "    .colab-df-convert:hover {\n",
              "      background-color: #E2EBFA;\n",
              "      box-shadow: 0px 1px 2px rgba(60, 64, 67, 0.3), 0px 1px 3px 1px rgba(60, 64, 67, 0.15);\n",
              "      fill: #174EA6;\n",
              "    }\n",
              "\n",
              "    .colab-df-buttons div {\n",
              "      margin-bottom: 4px;\n",
              "    }\n",
              "\n",
              "    [theme=dark] .colab-df-convert {\n",
              "      background-color: #3B4455;\n",
              "      fill: #D2E3FC;\n",
              "    }\n",
              "\n",
              "    [theme=dark] .colab-df-convert:hover {\n",
              "      background-color: #434B5C;\n",
              "      box-shadow: 0px 1px 3px 1px rgba(0, 0, 0, 0.15);\n",
              "      filter: drop-shadow(0px 1px 2px rgba(0, 0, 0, 0.3));\n",
              "      fill: #FFFFFF;\n",
              "    }\n",
              "  </style>\n",
              "\n",
              "    <script>\n",
              "      const buttonEl =\n",
              "        document.querySelector('#df-0e372dde-5ad7-43dc-b788-755000036f68 button.colab-df-convert');\n",
              "      buttonEl.style.display =\n",
              "        google.colab.kernel.accessAllowed ? 'block' : 'none';\n",
              "\n",
              "      async function convertToInteractive(key) {\n",
              "        const element = document.querySelector('#df-0e372dde-5ad7-43dc-b788-755000036f68');\n",
              "        const dataTable =\n",
              "          await google.colab.kernel.invokeFunction('convertToInteractive',\n",
              "                                                    [key], {});\n",
              "        if (!dataTable) return;\n",
              "\n",
              "        const docLinkHtml = 'Like what you see? Visit the ' +\n",
              "          '<a target=\"_blank\" href=https://colab.research.google.com/notebooks/data_table.ipynb>data table notebook</a>'\n",
              "          + ' to learn more about interactive tables.';\n",
              "        element.innerHTML = '';\n",
              "        dataTable['output_type'] = 'display_data';\n",
              "        await google.colab.output.renderOutput(dataTable, element);\n",
              "        const docLink = document.createElement('div');\n",
              "        docLink.innerHTML = docLinkHtml;\n",
              "        element.appendChild(docLink);\n",
              "      }\n",
              "    </script>\n",
              "  </div>\n",
              "\n",
              "\n",
              "<div id=\"df-093658a6-a501-4abd-9efb-3a717578c019\">\n",
              "  <button class=\"colab-df-quickchart\" onclick=\"quickchart('df-093658a6-a501-4abd-9efb-3a717578c019')\"\n",
              "            title=\"Suggest charts.\"\n",
              "            style=\"display:none;\">\n",
              "\n",
              "<svg xmlns=\"http://www.w3.org/2000/svg\" height=\"24px\"viewBox=\"0 0 24 24\"\n",
              "     width=\"24px\">\n",
              "    <g>\n",
              "        <path d=\"M19 3H5c-1.1 0-2 .9-2 2v14c0 1.1.9 2 2 2h14c1.1 0 2-.9 2-2V5c0-1.1-.9-2-2-2zM9 17H7v-7h2v7zm4 0h-2V7h2v10zm4 0h-2v-4h2v4z\"/>\n",
              "    </g>\n",
              "</svg>\n",
              "  </button>\n",
              "\n",
              "<style>\n",
              "  .colab-df-quickchart {\n",
              "      --bg-color: #E8F0FE;\n",
              "      --fill-color: #1967D2;\n",
              "      --hover-bg-color: #E2EBFA;\n",
              "      --hover-fill-color: #174EA6;\n",
              "      --disabled-fill-color: #AAA;\n",
              "      --disabled-bg-color: #DDD;\n",
              "  }\n",
              "\n",
              "  [theme=dark] .colab-df-quickchart {\n",
              "      --bg-color: #3B4455;\n",
              "      --fill-color: #D2E3FC;\n",
              "      --hover-bg-color: #434B5C;\n",
              "      --hover-fill-color: #FFFFFF;\n",
              "      --disabled-bg-color: #3B4455;\n",
              "      --disabled-fill-color: #666;\n",
              "  }\n",
              "\n",
              "  .colab-df-quickchart {\n",
              "    background-color: var(--bg-color);\n",
              "    border: none;\n",
              "    border-radius: 50%;\n",
              "    cursor: pointer;\n",
              "    display: none;\n",
              "    fill: var(--fill-color);\n",
              "    height: 32px;\n",
              "    padding: 0;\n",
              "    width: 32px;\n",
              "  }\n",
              "\n",
              "  .colab-df-quickchart:hover {\n",
              "    background-color: var(--hover-bg-color);\n",
              "    box-shadow: 0 1px 2px rgba(60, 64, 67, 0.3), 0 1px 3px 1px rgba(60, 64, 67, 0.15);\n",
              "    fill: var(--button-hover-fill-color);\n",
              "  }\n",
              "\n",
              "  .colab-df-quickchart-complete:disabled,\n",
              "  .colab-df-quickchart-complete:disabled:hover {\n",
              "    background-color: var(--disabled-bg-color);\n",
              "    fill: var(--disabled-fill-color);\n",
              "    box-shadow: none;\n",
              "  }\n",
              "\n",
              "  .colab-df-spinner {\n",
              "    border: 2px solid var(--fill-color);\n",
              "    border-color: transparent;\n",
              "    border-bottom-color: var(--fill-color);\n",
              "    animation:\n",
              "      spin 1s steps(1) infinite;\n",
              "  }\n",
              "\n",
              "  @keyframes spin {\n",
              "    0% {\n",
              "      border-color: transparent;\n",
              "      border-bottom-color: var(--fill-color);\n",
              "      border-left-color: var(--fill-color);\n",
              "    }\n",
              "    20% {\n",
              "      border-color: transparent;\n",
              "      border-left-color: var(--fill-color);\n",
              "      border-top-color: var(--fill-color);\n",
              "    }\n",
              "    30% {\n",
              "      border-color: transparent;\n",
              "      border-left-color: var(--fill-color);\n",
              "      border-top-color: var(--fill-color);\n",
              "      border-right-color: var(--fill-color);\n",
              "    }\n",
              "    40% {\n",
              "      border-color: transparent;\n",
              "      border-right-color: var(--fill-color);\n",
              "      border-top-color: var(--fill-color);\n",
              "    }\n",
              "    60% {\n",
              "      border-color: transparent;\n",
              "      border-right-color: var(--fill-color);\n",
              "    }\n",
              "    80% {\n",
              "      border-color: transparent;\n",
              "      border-right-color: var(--fill-color);\n",
              "      border-bottom-color: var(--fill-color);\n",
              "    }\n",
              "    90% {\n",
              "      border-color: transparent;\n",
              "      border-bottom-color: var(--fill-color);\n",
              "    }\n",
              "  }\n",
              "</style>\n",
              "\n",
              "  <script>\n",
              "    async function quickchart(key) {\n",
              "      const quickchartButtonEl =\n",
              "        document.querySelector('#' + key + ' button');\n",
              "      quickchartButtonEl.disabled = true;  // To prevent multiple clicks.\n",
              "      quickchartButtonEl.classList.add('colab-df-spinner');\n",
              "      try {\n",
              "        const charts = await google.colab.kernel.invokeFunction(\n",
              "            'suggestCharts', [key], {});\n",
              "      } catch (error) {\n",
              "        console.error('Error during call to suggestCharts:', error);\n",
              "      }\n",
              "      quickchartButtonEl.classList.remove('colab-df-spinner');\n",
              "      quickchartButtonEl.classList.add('colab-df-quickchart-complete');\n",
              "    }\n",
              "    (() => {\n",
              "      let quickchartButtonEl =\n",
              "        document.querySelector('#df-093658a6-a501-4abd-9efb-3a717578c019 button');\n",
              "      quickchartButtonEl.style.display =\n",
              "        google.colab.kernel.accessAllowed ? 'block' : 'none';\n",
              "    })();\n",
              "  </script>\n",
              "</div>\n",
              "    </div>\n",
              "  </div>\n"
            ]
          },
          "metadata": {},
          "execution_count": 9
        }
      ],
      "source": [
        "df.head(10)"
      ]
    },
    {
      "cell_type": "markdown",
      "metadata": {
        "id": "KvzCHvv4wQi4"
      },
      "source": [
        "---\n",
        "<font color=green>Q3:</font>\n",
        "<br><font color='green'>\n",
        "Replace the categories in the column `category` of the dataframe `df` with the corresponding indices in the following table:\n",
        "</font>\n",
        "\n",
        "---"
      ]
    },
    {
      "cell_type": "markdown",
      "metadata": {
        "id": "brAM29LAlx3u"
      },
      "source": [
        "\n",
        "\n",
        "\n",
        "| **category**  | **index** |\n",
        "|---------------|-----------|\n",
        "| tech          | 0         |\n",
        "| business      | 1         |\n",
        "| sport         | 2         |\n",
        "| entertainment | 3         |\n",
        "| politics      | 4         |\n",
        "\n",
        "\n"
      ]
    },
    {
      "cell_type": "code",
      "execution_count": null,
      "metadata": {
        "id": "CHVt1mT1d1FM"
      },
      "outputs": [],
      "source": [
        "# List of labels\n",
        "list_labels = list(df.category.unique())"
      ]
    },
    {
      "cell_type": "code",
      "execution_count": null,
      "metadata": {
        "colab": {
          "base_uri": "https://localhost:8080/"
        },
        "id": "vg4mLbwbd1Ml",
        "outputId": "7dfb4f05-f9eb-4e15-fe76-3367e841fd01"
      },
      "outputs": [
        {
          "output_type": "execute_result",
          "data": {
            "text/plain": [
              "['tech', 'business', 'sport', 'entertainment', 'politics']"
            ]
          },
          "metadata": {},
          "execution_count": 11
        }
      ],
      "source": [
        "list_labels"
      ]
    },
    {
      "cell_type": "code",
      "execution_count": null,
      "metadata": {
        "id": "Wt6L2I4amjdj"
      },
      "outputs": [],
      "source": [
        "df.category.replace(list_labels, np.arange(len(list_labels)), inplace=True)"
      ]
    },
    {
      "cell_type": "code",
      "execution_count": null,
      "metadata": {
        "colab": {
          "base_uri": "https://localhost:8080/",
          "height": 363
        },
        "id": "g4OjzDtm6IiI",
        "outputId": "1ddd06c5-44ec-41ac-9c40-e2c93f1bb684"
      },
      "outputs": [
        {
          "output_type": "execute_result",
          "data": {
            "text/plain": [
              "   category                                               text\n",
              "0         0  tv future hands viewers home theatre systems p...\n",
              "1         1  worldcom boss left books alone former worldcom...\n",
              "2         2  tigers wary farrell gamble leicester say rushe...\n",
              "3         2  yeading face newcastle fa cup premiership side...\n",
              "4         3  ocean twelve raids box office ocean twelve cri...\n",
              "5         4  howard hits back mongrel jibe michael howard s...\n",
              "6         4  blair prepares name poll date tony blair likel...\n",
              "7         2  henman hopes ended dubai third seed tim henman...\n",
              "8         2  wilkinson fit face edinburgh england captain j...\n",
              "9         3  last star wars children sixth final star wars ..."
            ],
            "text/html": [
              "\n",
              "  <div id=\"df-a4633998-bfc4-48c4-8fc0-4d491485852a\" class=\"colab-df-container\">\n",
              "    <div>\n",
              "<style scoped>\n",
              "    .dataframe tbody tr th:only-of-type {\n",
              "        vertical-align: middle;\n",
              "    }\n",
              "\n",
              "    .dataframe tbody tr th {\n",
              "        vertical-align: top;\n",
              "    }\n",
              "\n",
              "    .dataframe thead th {\n",
              "        text-align: right;\n",
              "    }\n",
              "</style>\n",
              "<table border=\"1\" class=\"dataframe\">\n",
              "  <thead>\n",
              "    <tr style=\"text-align: right;\">\n",
              "      <th></th>\n",
              "      <th>category</th>\n",
              "      <th>text</th>\n",
              "    </tr>\n",
              "  </thead>\n",
              "  <tbody>\n",
              "    <tr>\n",
              "      <th>0</th>\n",
              "      <td>0</td>\n",
              "      <td>tv future hands viewers home theatre systems p...</td>\n",
              "    </tr>\n",
              "    <tr>\n",
              "      <th>1</th>\n",
              "      <td>1</td>\n",
              "      <td>worldcom boss left books alone former worldcom...</td>\n",
              "    </tr>\n",
              "    <tr>\n",
              "      <th>2</th>\n",
              "      <td>2</td>\n",
              "      <td>tigers wary farrell gamble leicester say rushe...</td>\n",
              "    </tr>\n",
              "    <tr>\n",
              "      <th>3</th>\n",
              "      <td>2</td>\n",
              "      <td>yeading face newcastle fa cup premiership side...</td>\n",
              "    </tr>\n",
              "    <tr>\n",
              "      <th>4</th>\n",
              "      <td>3</td>\n",
              "      <td>ocean twelve raids box office ocean twelve cri...</td>\n",
              "    </tr>\n",
              "    <tr>\n",
              "      <th>5</th>\n",
              "      <td>4</td>\n",
              "      <td>howard hits back mongrel jibe michael howard s...</td>\n",
              "    </tr>\n",
              "    <tr>\n",
              "      <th>6</th>\n",
              "      <td>4</td>\n",
              "      <td>blair prepares name poll date tony blair likel...</td>\n",
              "    </tr>\n",
              "    <tr>\n",
              "      <th>7</th>\n",
              "      <td>2</td>\n",
              "      <td>henman hopes ended dubai third seed tim henman...</td>\n",
              "    </tr>\n",
              "    <tr>\n",
              "      <th>8</th>\n",
              "      <td>2</td>\n",
              "      <td>wilkinson fit face edinburgh england captain j...</td>\n",
              "    </tr>\n",
              "    <tr>\n",
              "      <th>9</th>\n",
              "      <td>3</td>\n",
              "      <td>last star wars children sixth final star wars ...</td>\n",
              "    </tr>\n",
              "  </tbody>\n",
              "</table>\n",
              "</div>\n",
              "    <div class=\"colab-df-buttons\">\n",
              "\n",
              "  <div class=\"colab-df-container\">\n",
              "    <button class=\"colab-df-convert\" onclick=\"convertToInteractive('df-a4633998-bfc4-48c4-8fc0-4d491485852a')\"\n",
              "            title=\"Convert this dataframe to an interactive table.\"\n",
              "            style=\"display:none;\">\n",
              "\n",
              "  <svg xmlns=\"http://www.w3.org/2000/svg\" height=\"24px\" viewBox=\"0 -960 960 960\">\n",
              "    <path d=\"M120-120v-720h720v720H120Zm60-500h600v-160H180v160Zm220 220h160v-160H400v160Zm0 220h160v-160H400v160ZM180-400h160v-160H180v160Zm440 0h160v-160H620v160ZM180-180h160v-160H180v160Zm440 0h160v-160H620v160Z\"/>\n",
              "  </svg>\n",
              "    </button>\n",
              "\n",
              "  <style>\n",
              "    .colab-df-container {\n",
              "      display:flex;\n",
              "      gap: 12px;\n",
              "    }\n",
              "\n",
              "    .colab-df-convert {\n",
              "      background-color: #E8F0FE;\n",
              "      border: none;\n",
              "      border-radius: 50%;\n",
              "      cursor: pointer;\n",
              "      display: none;\n",
              "      fill: #1967D2;\n",
              "      height: 32px;\n",
              "      padding: 0 0 0 0;\n",
              "      width: 32px;\n",
              "    }\n",
              "\n",
              "    .colab-df-convert:hover {\n",
              "      background-color: #E2EBFA;\n",
              "      box-shadow: 0px 1px 2px rgba(60, 64, 67, 0.3), 0px 1px 3px 1px rgba(60, 64, 67, 0.15);\n",
              "      fill: #174EA6;\n",
              "    }\n",
              "\n",
              "    .colab-df-buttons div {\n",
              "      margin-bottom: 4px;\n",
              "    }\n",
              "\n",
              "    [theme=dark] .colab-df-convert {\n",
              "      background-color: #3B4455;\n",
              "      fill: #D2E3FC;\n",
              "    }\n",
              "\n",
              "    [theme=dark] .colab-df-convert:hover {\n",
              "      background-color: #434B5C;\n",
              "      box-shadow: 0px 1px 3px 1px rgba(0, 0, 0, 0.15);\n",
              "      filter: drop-shadow(0px 1px 2px rgba(0, 0, 0, 0.3));\n",
              "      fill: #FFFFFF;\n",
              "    }\n",
              "  </style>\n",
              "\n",
              "    <script>\n",
              "      const buttonEl =\n",
              "        document.querySelector('#df-a4633998-bfc4-48c4-8fc0-4d491485852a button.colab-df-convert');\n",
              "      buttonEl.style.display =\n",
              "        google.colab.kernel.accessAllowed ? 'block' : 'none';\n",
              "\n",
              "      async function convertToInteractive(key) {\n",
              "        const element = document.querySelector('#df-a4633998-bfc4-48c4-8fc0-4d491485852a');\n",
              "        const dataTable =\n",
              "          await google.colab.kernel.invokeFunction('convertToInteractive',\n",
              "                                                    [key], {});\n",
              "        if (!dataTable) return;\n",
              "\n",
              "        const docLinkHtml = 'Like what you see? Visit the ' +\n",
              "          '<a target=\"_blank\" href=https://colab.research.google.com/notebooks/data_table.ipynb>data table notebook</a>'\n",
              "          + ' to learn more about interactive tables.';\n",
              "        element.innerHTML = '';\n",
              "        dataTable['output_type'] = 'display_data';\n",
              "        await google.colab.output.renderOutput(dataTable, element);\n",
              "        const docLink = document.createElement('div');\n",
              "        docLink.innerHTML = docLinkHtml;\n",
              "        element.appendChild(docLink);\n",
              "      }\n",
              "    </script>\n",
              "  </div>\n",
              "\n",
              "\n",
              "<div id=\"df-af331edd-46eb-494e-a78b-f12f1dc4d86e\">\n",
              "  <button class=\"colab-df-quickchart\" onclick=\"quickchart('df-af331edd-46eb-494e-a78b-f12f1dc4d86e')\"\n",
              "            title=\"Suggest charts.\"\n",
              "            style=\"display:none;\">\n",
              "\n",
              "<svg xmlns=\"http://www.w3.org/2000/svg\" height=\"24px\"viewBox=\"0 0 24 24\"\n",
              "     width=\"24px\">\n",
              "    <g>\n",
              "        <path d=\"M19 3H5c-1.1 0-2 .9-2 2v14c0 1.1.9 2 2 2h14c1.1 0 2-.9 2-2V5c0-1.1-.9-2-2-2zM9 17H7v-7h2v7zm4 0h-2V7h2v10zm4 0h-2v-4h2v4z\"/>\n",
              "    </g>\n",
              "</svg>\n",
              "  </button>\n",
              "\n",
              "<style>\n",
              "  .colab-df-quickchart {\n",
              "      --bg-color: #E8F0FE;\n",
              "      --fill-color: #1967D2;\n",
              "      --hover-bg-color: #E2EBFA;\n",
              "      --hover-fill-color: #174EA6;\n",
              "      --disabled-fill-color: #AAA;\n",
              "      --disabled-bg-color: #DDD;\n",
              "  }\n",
              "\n",
              "  [theme=dark] .colab-df-quickchart {\n",
              "      --bg-color: #3B4455;\n",
              "      --fill-color: #D2E3FC;\n",
              "      --hover-bg-color: #434B5C;\n",
              "      --hover-fill-color: #FFFFFF;\n",
              "      --disabled-bg-color: #3B4455;\n",
              "      --disabled-fill-color: #666;\n",
              "  }\n",
              "\n",
              "  .colab-df-quickchart {\n",
              "    background-color: var(--bg-color);\n",
              "    border: none;\n",
              "    border-radius: 50%;\n",
              "    cursor: pointer;\n",
              "    display: none;\n",
              "    fill: var(--fill-color);\n",
              "    height: 32px;\n",
              "    padding: 0;\n",
              "    width: 32px;\n",
              "  }\n",
              "\n",
              "  .colab-df-quickchart:hover {\n",
              "    background-color: var(--hover-bg-color);\n",
              "    box-shadow: 0 1px 2px rgba(60, 64, 67, 0.3), 0 1px 3px 1px rgba(60, 64, 67, 0.15);\n",
              "    fill: var(--button-hover-fill-color);\n",
              "  }\n",
              "\n",
              "  .colab-df-quickchart-complete:disabled,\n",
              "  .colab-df-quickchart-complete:disabled:hover {\n",
              "    background-color: var(--disabled-bg-color);\n",
              "    fill: var(--disabled-fill-color);\n",
              "    box-shadow: none;\n",
              "  }\n",
              "\n",
              "  .colab-df-spinner {\n",
              "    border: 2px solid var(--fill-color);\n",
              "    border-color: transparent;\n",
              "    border-bottom-color: var(--fill-color);\n",
              "    animation:\n",
              "      spin 1s steps(1) infinite;\n",
              "  }\n",
              "\n",
              "  @keyframes spin {\n",
              "    0% {\n",
              "      border-color: transparent;\n",
              "      border-bottom-color: var(--fill-color);\n",
              "      border-left-color: var(--fill-color);\n",
              "    }\n",
              "    20% {\n",
              "      border-color: transparent;\n",
              "      border-left-color: var(--fill-color);\n",
              "      border-top-color: var(--fill-color);\n",
              "    }\n",
              "    30% {\n",
              "      border-color: transparent;\n",
              "      border-left-color: var(--fill-color);\n",
              "      border-top-color: var(--fill-color);\n",
              "      border-right-color: var(--fill-color);\n",
              "    }\n",
              "    40% {\n",
              "      border-color: transparent;\n",
              "      border-right-color: var(--fill-color);\n",
              "      border-top-color: var(--fill-color);\n",
              "    }\n",
              "    60% {\n",
              "      border-color: transparent;\n",
              "      border-right-color: var(--fill-color);\n",
              "    }\n",
              "    80% {\n",
              "      border-color: transparent;\n",
              "      border-right-color: var(--fill-color);\n",
              "      border-bottom-color: var(--fill-color);\n",
              "    }\n",
              "    90% {\n",
              "      border-color: transparent;\n",
              "      border-bottom-color: var(--fill-color);\n",
              "    }\n",
              "  }\n",
              "</style>\n",
              "\n",
              "  <script>\n",
              "    async function quickchart(key) {\n",
              "      const quickchartButtonEl =\n",
              "        document.querySelector('#' + key + ' button');\n",
              "      quickchartButtonEl.disabled = true;  // To prevent multiple clicks.\n",
              "      quickchartButtonEl.classList.add('colab-df-spinner');\n",
              "      try {\n",
              "        const charts = await google.colab.kernel.invokeFunction(\n",
              "            'suggestCharts', [key], {});\n",
              "      } catch (error) {\n",
              "        console.error('Error during call to suggestCharts:', error);\n",
              "      }\n",
              "      quickchartButtonEl.classList.remove('colab-df-spinner');\n",
              "      quickchartButtonEl.classList.add('colab-df-quickchart-complete');\n",
              "    }\n",
              "    (() => {\n",
              "      let quickchartButtonEl =\n",
              "        document.querySelector('#df-af331edd-46eb-494e-a78b-f12f1dc4d86e button');\n",
              "      quickchartButtonEl.style.display =\n",
              "        google.colab.kernel.accessAllowed ? 'block' : 'none';\n",
              "    })();\n",
              "  </script>\n",
              "</div>\n",
              "    </div>\n",
              "  </div>\n"
            ]
          },
          "metadata": {},
          "execution_count": 13
        }
      ],
      "source": [
        "df.head(10)"
      ]
    },
    {
      "cell_type": "markdown",
      "metadata": {
        "id": "GqBwq8pLwRIw"
      },
      "source": [
        "---\n",
        "<font color=green>Q4:</font>\n",
        "<br><font color='green'>\n",
        "Define a list, called `labels` containing the targets associated with each text in the column `text`.\n",
        "</font>\n",
        "\n",
        "---"
      ]
    },
    {
      "cell_type": "code",
      "execution_count": null,
      "metadata": {
        "id": "T_gLbT-xsBDG"
      },
      "outputs": [],
      "source": [
        "# List of possible labels\n",
        "labels = df[\"category\"].values"
      ]
    },
    {
      "cell_type": "code",
      "execution_count": null,
      "metadata": {
        "colab": {
          "base_uri": "https://localhost:8080/"
        },
        "id": "0YqPkx026UJF",
        "outputId": "274c1f17-7bcc-450d-96ea-ae96b9717ca8"
      },
      "outputs": [
        {
          "output_type": "execute_result",
          "data": {
            "text/plain": [
              "array([0, 1, 2, ..., 3, 4, 2])"
            ]
          },
          "metadata": {},
          "execution_count": 15
        }
      ],
      "source": [
        "labels"
      ]
    },
    {
      "cell_type": "markdown",
      "metadata": {
        "id": "xnXoC-CIwSYL"
      },
      "source": [
        "---\n",
        "<font color=green>Q5:</font>\n",
        "<br><font color='green'>\n",
        "Preprocess the texts in the column `text` and transform them into sequences of integers:\n",
        "\n",
        "* Use `Tokenizer` from `tensorflow.keras.preprocessing.text` to create your tokenizer\n",
        "* Create your word_index dictionary\n",
        "* Transform your texts into sequences of integers via your word_index dictionary.\n",
        "</font>\n",
        "\n",
        "---"
      ]
    },
    {
      "cell_type": "code",
      "execution_count": null,
      "metadata": {
        "id": "RFhFjOw0d1jb"
      },
      "outputs": [],
      "source": [
        "# Import Modules\n",
        "from tensorflow.keras.preprocessing.text import Tokenizer"
      ]
    },
    {
      "cell_type": "code",
      "execution_count": null,
      "metadata": {
        "colab": {
          "base_uri": "https://localhost:8080/"
        },
        "id": "9jCw3opGLI99",
        "outputId": "c3bfbca3-4f72-498a-cf18-6ab3b21c364f"
      },
      "outputs": [
        {
          "output_type": "stream",
          "name": "stdout",
          "text": [
            "Found 26149 unique tokens.\n"
          ]
        }
      ],
      "source": [
        "# Set Hyperparameters: Vocabulary size\n",
        "V = 10000\n",
        "\n",
        "# Select the texts from the column \"text\"\n",
        "texts = df[\"text\"].values\n",
        "\n",
        "# Create the Tokenizer\n",
        "tokenizer = Tokenizer(num_words=V) # Filter some elements + oov_token (TO DO)\n",
        "\n",
        "# Fit the tokenizer on the texts to create the word_index dictionary\n",
        "tokenizer.fit_on_texts(texts)\n",
        "word_index = tokenizer.word_index\n",
        "print('Found %s unique tokens.' % len(word_index))\n",
        "\n",
        "\n",
        "# From texts to sequences of integers\n",
        "sequences = tokenizer.texts_to_sequences(texts)"
      ]
    },
    {
      "cell_type": "code",
      "source": [
        "plt.hist([len(sequence) for sequence in sequences])"
      ],
      "metadata": {
        "id": "p9jDyqoka1dA",
        "outputId": "5d43e4e2-092a-4b4e-8a90-a2e8d7e43dc2",
        "colab": {
          "base_uri": "https://localhost:8080/",
          "height": 519
        }
      },
      "execution_count": null,
      "outputs": [
        {
          "output_type": "execute_result",
          "data": {
            "text/plain": [
              "(array([1.558e+03, 6.170e+02, 3.800e+01, 4.000e+00, 1.000e+00, 3.000e+00,\n",
              "        1.000e+00, 0.000e+00, 2.000e+00, 1.000e+00]),\n",
              " array([  40. ,  210.9,  381.8,  552.7,  723.6,  894.5, 1065.4, 1236.3,\n",
              "        1407.2, 1578.1, 1749. ]),\n",
              " <BarContainer object of 10 artists>)"
            ]
          },
          "metadata": {},
          "execution_count": 20
        },
        {
          "output_type": "display_data",
          "data": {
            "text/plain": [
              "<Figure size 640x480 with 1 Axes>"
            ],
            "image/png": "[encoded data removed]"
          },
          "metadata": {}
        }
      ]
    },
    {
      "cell_type": "markdown",
      "metadata": {
        "id": "29Z5JwuLwTWp"
      },
      "source": [
        "---\n",
        "<font color=green>Q6:</font>\n",
        "<br><font color='green'>\n",
        "Using `pad_sequences` from `tensorflow.keras.preprocessing.sequence`, transform the list of sequences into an $(N, T)$ tensor called `data`. (Set `T = 300`)\n",
        "</font>\n",
        "\n",
        "---"
      ]
    },
    {
      "cell_type": "code",
      "execution_count": null,
      "metadata": {
        "id": "mbMVimDId1mH"
      },
      "outputs": [],
      "source": [
        "# Set hyperparameters\n",
        "T = 300\n",
        "\n",
        "# Import Module\n",
        "from tensorflow.keras.preprocessing.sequence import pad_sequences\n",
        "\n",
        "# Pad sequences\n",
        "data = pad_sequences(sequences, maxlen= T)"
      ]
    },
    {
      "cell_type": "code",
      "execution_count": null,
      "metadata": {
        "id": "3rjB5Zo370Au"
      },
      "outputs": [],
      "source": [
        "assert data.shape == (len(sequences), T), \"Oupsii\""
      ]
    },
    {
      "cell_type": "markdown",
      "metadata": {
        "id": "NpPFZu9_wUPQ"
      },
      "source": [
        "---\n",
        "<font color=green>Q7:</font>\n",
        "<br><font color='green'>\n",
        "Shuffle the rows of the $(N, T)$ tensor `data`. Then, Split the data into training data (80% of data) and test data. Finally, use the one hot encoding process to transform the targets into $(N_1, K)$ and $(N_2, K)$ tensors (where $N_1$ is the size of the training data, $N_2$ the size of the test data and $K$ the number of possible categories.  \n",
        "</font>\n",
        "\n",
        "---"
      ]
    },
    {
      "cell_type": "code",
      "execution_count": null,
      "metadata": {
        "colab": {
          "base_uri": "https://localhost:8080/"
        },
        "id": "cwuHiYBP8ETS",
        "outputId": "f75b0314-d88e-4299-ef77-70e138497922"
      },
      "outputs": [
        {
          "output_type": "execute_result",
          "data": {
            "text/plain": [
              "array([ 488,  777, 1591, ...,  554, 1668, 1167])"
            ]
          },
          "metadata": {},
          "execution_count": 24
        }
      ],
      "source": [
        "indices = np.arange(len(data))\n",
        "np.random.shuffle(indices)\n",
        "indices"
      ]
    },
    {
      "cell_type": "code",
      "execution_count": null,
      "metadata": {
        "colab": {
          "base_uri": "https://localhost:8080/"
        },
        "id": "MJntu77bd1x7",
        "outputId": "a313fe33-a03f-4785-a733-7a1359e3b4a5"
      },
      "outputs": [
        {
          "output_type": "stream",
          "name": "stdout",
          "text": [
            "Shape of data tensor: (2225, 300)\n"
          ]
        }
      ],
      "source": [
        "# Shuffle indices\n",
        "indices = np.arange(len(data))\n",
        "np.random.shuffle(indices)\n",
        "\n",
        "# New data\n",
        "data = data[indices]\n",
        "\n",
        "# New labels\n",
        "labels = labels[indices]\n",
        "print('Shape of data tensor:', data.shape)"
      ]
    },
    {
      "cell_type": "code",
      "execution_count": null,
      "metadata": {
        "id": "zvJJiLORd16O"
      },
      "outputs": [],
      "source": [
        "# Split\n",
        "split = int(.8 * len(texts))\n",
        "train_data = data[:split]\n",
        "train_labels = labels[:split]\n",
        "\n",
        "test_data = data[split:]\n",
        "test_labels = labels[split:]"
      ]
    },
    {
      "cell_type": "code",
      "execution_count": null,
      "metadata": {
        "colab": {
          "base_uri": "https://localhost:8080/"
        },
        "id": "CZ44k-6s8Wje",
        "outputId": "7a92687d-6fe5-4395-e94b-d80824e05d9b"
      },
      "outputs": [
        {
          "output_type": "execute_result",
          "data": {
            "text/plain": [
              "(1780, 300)"
            ]
          },
          "metadata": {},
          "execution_count": 27
        }
      ],
      "source": [
        "train_data.shape"
      ]
    },
    {
      "cell_type": "code",
      "execution_count": null,
      "metadata": {
        "colab": {
          "base_uri": "https://localhost:8080/"
        },
        "id": "5JfkOgFG8auM",
        "outputId": "856ef281-31fd-4659-8aca-02141e76bf38"
      },
      "outputs": [
        {
          "output_type": "execute_result",
          "data": {
            "text/plain": [
              "(1780,)"
            ]
          },
          "metadata": {},
          "execution_count": 28
        }
      ],
      "source": [
        "train_labels.shape"
      ]
    },
    {
      "cell_type": "code",
      "execution_count": null,
      "metadata": {
        "colab": {
          "base_uri": "https://localhost:8080/"
        },
        "id": "FTln6pSi8aoi",
        "outputId": "da9560ca-804c-45d2-9ee0-59527cd0313e"
      },
      "outputs": [
        {
          "output_type": "execute_result",
          "data": {
            "text/plain": [
              "(445, 300)"
            ]
          },
          "metadata": {},
          "execution_count": 29
        }
      ],
      "source": [
        "test_data.shape"
      ]
    },
    {
      "cell_type": "code",
      "execution_count": null,
      "metadata": {
        "colab": {
          "base_uri": "https://localhost:8080/"
        },
        "id": "qKOiBoS_8ab7",
        "outputId": "bc6fcd4a-4071-4d5d-8841-87e66b0753b4"
      },
      "outputs": [
        {
          "output_type": "execute_result",
          "data": {
            "text/plain": [
              "(445,)"
            ]
          },
          "metadata": {},
          "execution_count": 30
        }
      ],
      "source": [
        "test_labels.shape"
      ]
    },
    {
      "cell_type": "code",
      "execution_count": null,
      "metadata": {
        "id": "xW586vCxsUl2"
      },
      "outputs": [],
      "source": [
        "# One hot encoding applied to the targets\n",
        "from tensorflow.keras.utils import to_categorical\n",
        "\n",
        "\n",
        "train_labels = to_categorical(train_labels, num_classes=5)\n",
        "test_labels = to_categorical(test_labels, num_classes=5)"
      ]
    },
    {
      "cell_type": "code",
      "execution_count": null,
      "metadata": {
        "colab": {
          "base_uri": "https://localhost:8080/"
        },
        "id": "zPiLUErd9v0U",
        "outputId": "1887cebd-fb9e-4ac4-f7e5-989f954daffe"
      },
      "outputs": [
        {
          "output_type": "execute_result",
          "data": {
            "text/plain": [
              "(1780, 5)"
            ]
          },
          "metadata": {},
          "execution_count": 32
        }
      ],
      "source": [
        "train_labels.shape"
      ]
    },
    {
      "cell_type": "markdown",
      "metadata": {
        "id": "2eA3qWg0I1Zg"
      },
      "source": [
        "# 2. Creating the Embedding Matrix"
      ]
    },
    {
      "cell_type": "markdown",
      "metadata": {
        "id": "ZWCqXdikD4IZ"
      },
      "source": [
        "## 2.1 Creating the Embedding index dictionary"
      ]
    },
    {
      "cell_type": "markdown",
      "metadata": {
        "id": "X-Bt1nNrRFGa"
      },
      "source": [
        "The objective of this section is to load a pretrained embedding matrix\n",
        "\n",
        "We introduced the **Word2vec** algorithm in the coursework.\n",
        "\n",
        "Let us use the **Glove** pre-trained vectors for this session.\n",
        "\n",
        "Its developers have made available precomputed embeddings for millions of English tokens, trained on different corpora like the Wikipedia corpus.\n",
        "\n",
        "For more informations, see the link [here](https://nlp.stanford.edu/projects/glove)\n",
        "\n",
        "Q5.\n",
        "\n"
      ]
    },
    {
      "cell_type": "markdown",
      "metadata": {
        "id": "gopxLY8AwXUY"
      },
      "source": [
        "---\n",
        "<font color=green>Q8:</font>\n",
        "<br><font color='green'>\n",
        "Run the following code to download the precomputed embeddings from 2014 English Wikipedia. It’s an 822 MB zip file called glove.6B.zip, containing different D-dimensional embedding vectors for 400,000 words (or nonword tokens). Unzip it and store in the folder named `glove.6B`.\n",
        "</font>\n",
        "\n",
        "---"
      ]
    },
    {
      "cell_type": "code",
      "execution_count": null,
      "metadata": {
        "colab": {
          "base_uri": "https://localhost:8080/"
        },
        "id": "_7xk2hsPtfxP",
        "outputId": "74e159a3-cafd-4305-c028-67df1be79714"
      },
      "outputs": [
        {
          "output_type": "stream",
          "name": "stdout",
          "text": [
            "--2023-10-23 08:40:49--  http://nlp.stanford.edu/data/glove.6B.zip\n",
            "Resolving nlp.stanford.edu (nlp.stanford.edu)... 171.64.67.140\n",
            "Connecting to nlp.stanford.edu (nlp.stanford.edu)|171.64.67.140|:80... connected.\n",
            "HTTP request sent, awaiting response... 302 Found\n",
            "Location: https://nlp.stanford.edu/data/glove.6B.zip [following]\n",
            "--2023-10-23 08:40:49--  https://nlp.stanford.edu/data/glove.6B.zip\n",
            "Connecting to nlp.stanford.edu (nlp.stanford.edu)|171.64.67.140|:443... connected.\n",
            "HTTP request sent, awaiting response... 301 Moved Permanently\n",
            "Location: https://downloads.cs.stanford.edu/nlp/data/glove.6B.zip [following]\n",
            "--2023-10-23 08:40:49--  https://downloads.cs.stanford.edu/nlp/data/glove.6B.zip\n",
            "Resolving downloads.cs.stanford.edu (downloads.cs.stanford.edu)... 171.64.64.22\n",
            "Connecting to downloads.cs.stanford.edu (downloads.cs.stanford.edu)|171.64.64.22|:443... connected.\n",
            "HTTP request sent, awaiting response... 200 OK\n",
            "Length: 862182613 (822M) [application/zip]\n",
            "Saving to: ‘glove.6B.zip’\n",
            "\n",
            "glove.6B.zip        100%[===================>] 822.24M  5.07MB/s    in 2m 41s  \n",
            "\n",
            "2023-10-23 08:43:31 (5.10 MB/s) - ‘glove.6B.zip’ saved [862182613/862182613]\n",
            "\n"
          ]
        }
      ],
      "source": [
        "# Download the zip file\n",
        "!wget http://nlp.stanford.edu/data/glove.6B.zip"
      ]
    },
    {
      "cell_type": "code",
      "execution_count": null,
      "metadata": {
        "colab": {
          "base_uri": "https://localhost:8080/"
        },
        "id": "OTYDAMed3mO8",
        "outputId": "787ab334-002f-4b2c-8ff4-ebb8462a1ad3"
      },
      "outputs": [
        {
          "output_type": "stream",
          "name": "stdout",
          "text": [
            "Archive:  glove.6B.zip\n",
            "  inflating: glove.6B/glove.6B.50d.txt  \n",
            "  inflating: glove.6B/glove.6B.100d.txt  \n",
            "  inflating: glove.6B/glove.6B.200d.txt  \n",
            "  inflating: glove.6B/glove.6B.300d.txt  \n"
          ]
        }
      ],
      "source": [
        "# Unzip it and put the files in the destination folder `glove.6B`\n",
        "!unzip glove*.zip -d glove.6B"
      ]
    },
    {
      "cell_type": "markdown",
      "metadata": {
        "id": "IrFsjBQkwYMt"
      },
      "source": [
        "---\n",
        "<font color=green>Q9:</font>\n",
        "<br><font color='green'>\n",
        "Create a dictionary called `embedding_index` that maps each word to a vector of size 200 as shown in the following figure:\n",
        "</font>\n",
        "\n",
        "---"
      ]
    },
    {
      "cell_type": "markdown",
      "metadata": {
        "id": "PbXFogNR0SL4"
      },
      "source": [
        "<center><img width=“1000\" src = \"https://drive.google.com/uc?export=view&id=1fUAxpg7IU-bYQgntkV6YghOCqTVGwSt1\"></center>"
      ]
    },
    {
      "cell_type": "code",
      "execution_count": null,
      "metadata": {
        "id": "g_En0SubCRdQ"
      },
      "outputs": [],
      "source": [
        "# Directory of the Embedding file\n",
        "dir_glove = os.path.join(os.getcwd(),'glove.6B')\n",
        "\n",
        "# Create the dictionary\n",
        "embedding_word = {}\n",
        "\n",
        "f = open(os.path.join(dir_glove, \"glove.6B.200d.txt\"), encoding = \"utf8\")\n",
        "for line in f:\n",
        "    # Split each line\n",
        "    values = line.split()\n",
        "    # Get the word\n",
        "    word = values[0]\n",
        "    # Get the embedding vector\n",
        "    embedding_vector = np.asarray(values[1:], dtype = \"float32\")\n",
        "    # Append the dictionary\n",
        "    embedding_word[word] = embedding_vector\n",
        "f.close()"
      ]
    },
    {
      "cell_type": "code",
      "execution_count": null,
      "metadata": {
        "colab": {
          "base_uri": "https://localhost:8080/"
        },
        "id": "lN5PdXn_Q3Nf",
        "outputId": "1baf361e-9e12-4b12-ef0e-d51e9f8dd7f7"
      },
      "outputs": [
        {
          "data": {
            "text/plain": [
              "400000"
            ]
          },
          "execution_count": 35,
          "metadata": {},
          "output_type": "execute_result"
        }
      ],
      "source": [
        "len(embedding_word)"
      ]
    },
    {
      "cell_type": "markdown",
      "metadata": {
        "id": "_q38bn4fEfX0"
      },
      "source": [
        "## 2.2. Creating the Embedding matrix"
      ]
    },
    {
      "cell_type": "markdown",
      "metadata": {
        "id": "obJui7BCwako"
      },
      "source": [
        "---\n",
        "<font color=green>Q10:</font>\n",
        "<br><font color='green'>\n",
        "Create a matrix called `embedding_matrix` of shape `(V, D)` where `D` is the embedding dimension and `V` the vocabulary size.\n",
        "* In this matrix, the row number k will be represented by the embedding vector associated with the word of index k in the `embedding_index` dictionary.\n",
        "* If the word of index k is not in the `embedding_index` dictionary, we represent it by a vector of zeros in the embedding matrix.\n",
        "</font>\n",
        "\n",
        "---"
      ]
    },
    {
      "cell_type": "markdown",
      "metadata": {
        "id": "DSdkBi6F0TqZ"
      },
      "source": [
        "<center><img width=“300\" src = \"https://drive.google.com/uc?export=view&id=1KM1n5qSajHkf4ItxycCddcjq2MhkSS8e\"></center>"
      ]
    },
    {
      "cell_type": "code",
      "execution_count": null,
      "metadata": {
        "id": "0LuDoikvQKIa"
      },
      "outputs": [],
      "source": [
        "embedding_index.get(\"lovely\")"
      ]
    },
    {
      "cell_type": "code",
      "execution_count": null,
      "metadata": {
        "id": "CR3q_qyX5PY_"
      },
      "outputs": [],
      "source": [
        "# The embedding dimension\n",
        "D = 200\n",
        "\n",
        "# Initilize the embedding matrix with zeros\n",
        "embedding_matrix = np.zeros((V, D))\n",
        "\n",
        "# Loop through all the elements of the word_index dictionary\n",
        "for word, i in word_index.items():\n",
        "    if i < V:\n",
        "        # Get the embedding vector or None\n",
        "        embedding_vector = embedding_word.get(word)\n",
        "        # Update one row of the embedding matrix\n",
        "        if embedding_vector is not None:\n",
        "            embedding_matrix[i] = embedding_vector"
      ]
    },
    {
      "cell_type": "code",
      "execution_count": null,
      "metadata": {
        "colab": {
          "base_uri": "https://localhost:8080/"
        },
        "id": "bYLvIo1gQsCZ",
        "outputId": "17a3d228-cae0-4e44-8f05-fd2f5e29d47f"
      },
      "outputs": [
        {
          "output_type": "execute_result",
          "data": {
            "text/plain": [
              "(10000, 200)"
            ]
          },
          "metadata": {},
          "execution_count": 50
        }
      ],
      "source": [
        "embedding_matrix.shape"
      ]
    },
    {
      "cell_type": "markdown",
      "metadata": {
        "id": "9hwsH3FrK6pF"
      },
      "source": [
        "# 3. Creating the Model"
      ]
    },
    {
      "cell_type": "markdown",
      "metadata": {
        "id": "t8D40WPBK_TH"
      },
      "source": [
        "## 3.1 Using pre-trained word vectors (embedding_matrix) from GloVe"
      ]
    },
    {
      "cell_type": "markdown",
      "metadata": {
        "id": "zS7Z2hcVwbP4"
      },
      "source": [
        "---\n",
        "<font color=green>Q11:</font>\n",
        "<br><font color='green'>\n",
        "Using `Embedding` from `tensorflow.keras.layers`, create the embedding layer called `embedding_layer`\n",
        "\n",
        "* This layer transforms an `(N, T)` tensor of integers into an `(N, T, D)` tensor.\n",
        "* Load the `embedding_matrix` into the `embedding_layer`\n",
        "</font>\n",
        "\n",
        "---"
      ]
    },
    {
      "cell_type": "markdown",
      "metadata": {
        "id": "KnxHOmFA0VOs"
      },
      "source": [
        "<center><img width=“700\" src = \"https://drive.google.com/uc?export=view&id=1EdfK87ayAWSEXfr-A60JbXxBuXqd-QL0\"></center>"
      ]
    },
    {
      "cell_type": "code",
      "execution_count": null,
      "metadata": {
        "id": "8n7ZGAvIMAXP"
      },
      "outputs": [],
      "source": [
        "from tensorflow.keras.layers import Embedding\n",
        "\n",
        "embedding_layer = Embedding(\n",
        "  V,\n",
        "  D,\n",
        "  weights=[embedding_matrix],\n",
        "  input_length=T,\n",
        "  trainable=False\n",
        ")"
      ]
    },
    {
      "cell_type": "markdown",
      "metadata": {
        "id": "w1VIMWNQwb_i"
      },
      "source": [
        "---\n",
        "<font color=green>Q12:</font>\n",
        "<br><font color='green'>\n",
        "Create the following model:\n",
        "</font>\n",
        "\n",
        "---"
      ]
    },
    {
      "cell_type": "markdown",
      "metadata": {
        "id": "zBWDZJZo0Wgh"
      },
      "source": [
        "<center><img width=“700\" src = \"https://drive.google.com/uc?export=view&id=1ybUjIhriRWlMeTtn2NBiMzPXIQuTRZY3\"></center>"
      ]
    },
    {
      "cell_type": "code",
      "execution_count": null,
      "metadata": {
        "colab": {
          "base_uri": "https://localhost:8080/"
        },
        "id": "PjCnrR3YWZnu",
        "outputId": "35d2c4e1-946d-4cd5-d34b-18190f2fc43e"
      },
      "outputs": [
        {
          "name": "stdout",
          "output_type": "stream",
          "text": [
            "Model: \"model\"\n",
            "____________________________________________________________________________________________________\n",
            " Layer (type)                                Output Shape                            Param #        \n",
            "====================================================================================================\n",
            " input_1 (InputLayer)                        [(None, 300)]                           0              \n",
            "                                                                                                    \n",
            " Embedding_layer (Embedding)                 (None, 300, 200)                        2000000        \n",
            "                                                                                                    \n",
            " LSTM_1_layer (LSTM)                         (None, 300, 32)                         29824          \n",
            "                                                                                                    \n",
            " LSTM_2_layer (LSTM)                         (None, 32)                              8320           \n",
            "                                                                                                    \n",
            " Dense_layer (Dense)                         (None, 5)                               165            \n",
            "                                                                                                    \n",
            "====================================================================================================\n",
            "Total params: 2,038,309\n",
            "Trainable params: 2,038,309\n",
            "Non-trainable params: 0\n",
            "____________________________________________________________________________________________________\n"
          ]
        }
      ],
      "source": [
        "from tensorflow.keras.models import Model\n",
        "from tensorflow.keras.layers import Input, LSTM, Dense, Embedding\n",
        "\n",
        "# Set hyperparameters\n",
        "d_1 = 32 # output dimension of the first LSTM layer\n",
        "d_2 = 32 # output dimension of the second LSTM layer\n",
        "K = 5 # Output dimension of the last layer\n",
        "\n",
        "# Define the two lstm layers\n",
        "embedding = Embedding(V, D, input_length=T, name = \"Embedding_layer\")\n",
        "lstm_1 = LSTM(d_1, return_sequences = True, name = \"LSTM_1_layer\")\n",
        "lstm_2 = LSTM(d_2, return_sequences = False, name = \"LSTM_2_layer\")\n",
        "dense_layer = Dense(K, activation = \"softmax\", name = \"Dense_layer\")\n",
        "\n",
        "\n",
        "# The input tensor\n",
        "input_tensor = Input(shape=(T,), dtype = \"int32\") # (N, T)\n",
        "\n",
        "# Apply the embeddin lyer\n",
        "#x = embedding_layer(input_tensor) # (N, T, D)\n",
        "x = embedding(input_tensor) # (N, T, D)\n",
        "\n",
        "# Apply the first LSTM layer\n",
        "y = lstm_1(x) # (N, T, d_1)\n",
        "\n",
        "# Apply the second LSTM layer\n",
        "h_T = lstm_2(y) # (N, d_2)\n",
        "\n",
        "# Apply the dense layer\n",
        "output = dense_layer(h_T) # (N, K)\n",
        "\n",
        "# Define the model\n",
        "model = Model(input_tensor, output)\n",
        "model.summary(line_length = 100)"
      ]
    },
    {
      "cell_type": "code",
      "source": [
        "4*((32+32)*32 + 32)"
      ],
      "metadata": {
        "colab": {
          "base_uri": "https://localhost:8080/"
        },
        "id": "kiujCthgBiHs",
        "outputId": "fa09511a-b2a2-43eb-d700-9803469a4bcb"
      },
      "execution_count": null,
      "outputs": [
        {
          "output_type": "execute_result",
          "data": {
            "text/plain": [
              "8320"
            ]
          },
          "metadata": {},
          "execution_count": 39
        }
      ]
    },
    {
      "cell_type": "code",
      "source": [
        "32*5+5"
      ],
      "metadata": {
        "id": "KZM9zdFcByJe",
        "outputId": "e70405ce-c740-4f4f-9c04-9cf9ab3c8655",
        "colab": {
          "base_uri": "https://localhost:8080/"
        }
      },
      "execution_count": null,
      "outputs": [
        {
          "output_type": "execute_result",
          "data": {
            "text/plain": [
              "165"
            ]
          },
          "metadata": {},
          "execution_count": 40
        }
      ]
    },
    {
      "cell_type": "markdown",
      "metadata": {
        "id": "Nr_AoTPZwdIY"
      },
      "source": [
        "---\n",
        "<font color=green>Q13:</font>\n",
        "<br><font color='green'>\n",
        "Compile your model by using **Adam** algorithm for the optimization instead of Stochastic Gradient Descent (See the following [link](https://arxiv.org/pdf/1412.6980.pdf)). Define different evaluation metrics (Accuracy, precision, recall)\n",
        "</font>\n",
        "\n",
        "---"
      ]
    },
    {
      "cell_type": "markdown",
      "metadata": {
        "id": "GpuHUPB1i0ho"
      },
      "source": [
        "\n",
        "\n",
        "Adam is a modern adaptive learning rate technique, often considered as the default algorithm for many DL practitioners. It combines the idea of **momentum** and **adaptive learning rate** as shown in the following figure:\n",
        "\n"
      ]
    },
    {
      "cell_type": "markdown",
      "metadata": {
        "id": "KnZQKOI-0YEb"
      },
      "source": [
        "<center><img width=“700\" src = \"https://drive.google.com/uc?export=view&id=1IsjiRu3oMiRmky0AgZyr_sl97LqqJtOj\"></center>"
      ]
    },
    {
      "cell_type": "code",
      "execution_count": null,
      "metadata": {
        "id": "wOdJ-DkQupSt"
      },
      "outputs": [],
      "source": [
        "METRICS = [\n",
        "    #tf.keras.metrics.Accuracy(name='accuracy'),\n",
        "    \"accuracy\",\n",
        "    tf.keras.metrics.Precision(name='precision'),\n",
        "    tf.keras.metrics.Recall(name='recall'),\n",
        "]"
      ]
    },
    {
      "cell_type": "code",
      "execution_count": null,
      "metadata": {
        "id": "1KQxh-Mqivqo"
      },
      "outputs": [],
      "source": [
        "model.compile(optimizer=\"adam\",\n",
        "              loss = \"categorical_crossentropy\",\n",
        "              metrics = METRICS)"
      ]
    },
    {
      "cell_type": "markdown",
      "metadata": {
        "id": "AFuW6Cewwd2N"
      },
      "source": [
        "---\n",
        "<font color=green>Q14:</font>\n",
        "<br><font color='green'>\n",
        "Fit your model to the training data.\n",
        "* Use `EarlyStopping` from `tensorflow.keras.callbacks` to stop the training when the accuracy doesn't improve.\n",
        "\n",
        "* Use `ReduceLROnPlateau` from `tensorflow.keras.callbacks` to reduce the learning rate when the validation loss doesn't improve\n",
        "\n",
        "* Use `ModelCheckpoint` from `tensorflow.keras.callbacks` to save the best version of the model in a folder called `model`\n",
        "</font>\n",
        "\n",
        "---"
      ]
    },
    {
      "cell_type": "code",
      "execution_count": null,
      "metadata": {
        "id": "iSEW34_Wtvyu"
      },
      "outputs": [],
      "source": [
        "from tensorflow.keras.callbacks import EarlyStopping, ReduceLROnPlateau, ModelCheckpoint\n",
        "checkpoint_filepath = os.path.join(os.getcwd(), \"model\")\n",
        "\n",
        "callbacks_list = [\n",
        "                  EarlyStopping( # Interrupt the training when there is no more improvement\n",
        "                      monitor = \"val_accuracy\", # Metric to monitor\n",
        "                      patience = 10 # Number of epochs before interrupting the training if there is no improvement\n",
        "                  ),\n",
        "                  ModelCheckpoint(\n",
        "                      filepath = checkpoint_filepath, # path to the destination model file\n",
        "                      monitor = \"val_loss\", # metric to monitor\n",
        "                      save_best_only = True # Keep the best model\n",
        "                  ),\n",
        "                  ReduceLROnPlateau(\n",
        "                      monitor = \"val_loss\", # metric to monitor\n",
        "                      factor = 0.1, # Multiply the lr by factor when triggered\n",
        "                      patience = 10 # Number of epochs of non improvement before the callback is triggered\n",
        "                  )\n",
        "]"
      ]
    },
    {
      "cell_type": "code",
      "execution_count": null,
      "metadata": {
        "colab": {
          "background_save": true,
          "base_uri": "https://localhost:8080/"
        },
        "id": "j_AVsmpTQE21",
        "outputId": "5d186c5f-43db-454d-c1c7-7ab529f44da3"
      },
      "outputs": [
        {
          "name": "stdout",
          "output_type": "stream",
          "text": [
            "Epoch 1/200\n",
            "6/6 [==============================] - ETA: 0s - loss: 1.6013 - accuracy: 0.2465 - precision: 0.0000e+00 - recall: 0.0000e+00"
          ]
        },
        {
          "name": "stderr",
          "output_type": "stream",
          "text": [
            "WARNING:absl:Found untraced functions such as lstm_cell_layer_call_fn, lstm_cell_layer_call_and_return_conditional_losses, lstm_cell_1_layer_call_fn, lstm_cell_1_layer_call_and_return_conditional_losses while saving (showing 4 of 4). These functions will not be directly callable after loading.\n"
          ]
        },
        {
          "name": "stdout",
          "output_type": "stream",
          "text": [
            "6/6 [==============================] - 20s 3s/step - loss: 1.6013 - accuracy: 0.2465 - precision: 0.0000e+00 - recall: 0.0000e+00 - val_loss: 1.5825 - val_accuracy: 0.3006 - val_precision: 0.0000e+00 - val_recall: 0.0000e+00 - lr: 0.0010\n",
            "Epoch 2/200\n",
            "6/6 [==============================] - ETA: 0s - loss: 1.5367 - accuracy: 0.3904 - precision: 0.0000e+00 - recall: 0.0000e+00"
          ]
        },
        {
          "name": "stderr",
          "output_type": "stream",
          "text": [
            "WARNING:absl:Found untraced functions such as lstm_cell_layer_call_fn, lstm_cell_layer_call_and_return_conditional_losses, lstm_cell_1_layer_call_fn, lstm_cell_1_layer_call_and_return_conditional_losses while saving (showing 4 of 4). These functions will not be directly callable after loading.\n"
          ]
        },
        {
          "name": "stdout",
          "output_type": "stream",
          "text": [
            "6/6 [==============================] - 14s 3s/step - loss: 1.5367 - accuracy: 0.3904 - precision: 0.0000e+00 - recall: 0.0000e+00 - val_loss: 1.5027 - val_accuracy: 0.4045 - val_precision: 0.0000e+00 - val_recall: 0.0000e+00 - lr: 0.0010\n",
            "Epoch 3/200\n",
            "6/6 [==============================] - ETA: 0s - loss: 1.3525 - accuracy: 0.5169 - precision: 0.9877 - recall: 0.0562"
          ]
        },
        {
          "name": "stderr",
          "output_type": "stream",
          "text": [
            "WARNING:absl:Found untraced functions such as lstm_cell_layer_call_fn, lstm_cell_layer_call_and_return_conditional_losses, lstm_cell_1_layer_call_fn, lstm_cell_1_layer_call_and_return_conditional_losses while saving (showing 4 of 4). These functions will not be directly callable after loading.\n"
          ]
        },
        {
          "name": "stdout",
          "output_type": "stream",
          "text": [
            "6/6 [==============================] - 14s 3s/step - loss: 1.3525 - accuracy: 0.5169 - precision: 0.9877 - recall: 0.0562 - val_loss: 1.2565 - val_accuracy: 0.4719 - val_precision: 0.9306 - val_recall: 0.1882 - lr: 0.0010\n",
            "Epoch 4/200\n",
            "6/6 [==============================] - ETA: 0s - loss: 1.0229 - accuracy: 0.6053 - precision: 0.9559 - recall: 0.3048"
          ]
        },
        {
          "name": "stderr",
          "output_type": "stream",
          "text": [
            "WARNING:absl:Found untraced functions such as lstm_cell_layer_call_fn, lstm_cell_layer_call_and_return_conditional_losses, lstm_cell_1_layer_call_fn, lstm_cell_1_layer_call_and_return_conditional_losses while saving (showing 4 of 4). These functions will not be directly callable after loading.\n"
          ]
        },
        {
          "name": "stdout",
          "output_type": "stream",
          "text": [
            "6/6 [==============================] - 14s 3s/step - loss: 1.0229 - accuracy: 0.6053 - precision: 0.9559 - recall: 0.3048 - val_loss: 1.0120 - val_accuracy: 0.5253 - val_precision: 0.7435 - val_recall: 0.3989 - lr: 0.0010\n",
            "Epoch 5/200\n",
            "6/6 [==============================] - ETA: 0s - loss: 0.7970 - accuracy: 0.6426 - precision: 0.7638 - recall: 0.4656"
          ]
        },
        {
          "name": "stderr",
          "output_type": "stream",
          "text": [
            "WARNING:absl:Found untraced functions such as lstm_cell_layer_call_fn, lstm_cell_layer_call_and_return_conditional_losses, lstm_cell_1_layer_call_fn, lstm_cell_1_layer_call_and_return_conditional_losses while saving (showing 4 of 4). These functions will not be directly callable after loading.\n"
          ]
        },
        {
          "name": "stdout",
          "output_type": "stream",
          "text": [
            "6/6 [==============================] - 14s 3s/step - loss: 0.7970 - accuracy: 0.6426 - precision: 0.7638 - recall: 0.4656 - val_loss: 0.8651 - val_accuracy: 0.5618 - val_precision: 0.6938 - val_recall: 0.4073 - lr: 0.0010\n",
            "Epoch 6/200\n",
            "6/6 [==============================] - ETA: 0s - loss: 0.7002 - accuracy: 0.6482 - precision: 0.7543 - recall: 0.4656"
          ]
        },
        {
          "name": "stderr",
          "output_type": "stream",
          "text": [
            "WARNING:absl:Found untraced functions such as lstm_cell_layer_call_fn, lstm_cell_layer_call_and_return_conditional_losses, lstm_cell_1_layer_call_fn, lstm_cell_1_layer_call_and_return_conditional_losses while saving (showing 4 of 4). These functions will not be directly callable after loading.\n"
          ]
        },
        {
          "name": "stdout",
          "output_type": "stream",
          "text": [
            "6/6 [==============================] - 14s 3s/step - loss: 0.7002 - accuracy: 0.6482 - precision: 0.7543 - recall: 0.4656 - val_loss: 0.7942 - val_accuracy: 0.5646 - val_precision: 0.6697 - val_recall: 0.4101 - lr: 0.0010\n",
            "Epoch 7/200\n",
            "6/6 [==============================] - ETA: 0s - loss: 0.6347 - accuracy: 0.6503 - precision: 0.7335 - recall: 0.4677"
          ]
        },
        {
          "name": "stderr",
          "output_type": "stream",
          "text": [
            "WARNING:absl:Found untraced functions such as lstm_cell_layer_call_fn, lstm_cell_layer_call_and_return_conditional_losses, lstm_cell_1_layer_call_fn, lstm_cell_1_layer_call_and_return_conditional_losses while saving (showing 4 of 4). These functions will not be directly callable after loading.\n"
          ]
        },
        {
          "name": "stdout",
          "output_type": "stream",
          "text": [
            "6/6 [==============================] - 14s 3s/step - loss: 0.6347 - accuracy: 0.6503 - precision: 0.7335 - recall: 0.4677 - val_loss: 0.7745 - val_accuracy: 0.5449 - val_precision: 0.6481 - val_recall: 0.3933 - lr: 0.0010\n",
            "Epoch 8/200\n",
            "6/6 [==============================] - ETA: 0s - loss: 0.5923 - accuracy: 0.6510 - precision: 0.7517 - recall: 0.4677"
          ]
        },
        {
          "name": "stderr",
          "output_type": "stream",
          "text": [
            "WARNING:absl:Found untraced functions such as lstm_cell_layer_call_fn, lstm_cell_layer_call_and_return_conditional_losses, lstm_cell_1_layer_call_fn, lstm_cell_1_layer_call_and_return_conditional_losses while saving (showing 4 of 4). These functions will not be directly callable after loading.\n"
          ]
        },
        {
          "name": "stdout",
          "output_type": "stream",
          "text": [
            "6/6 [==============================] - 15s 3s/step - loss: 0.5923 - accuracy: 0.6510 - precision: 0.7517 - recall: 0.4677 - val_loss: 0.7315 - val_accuracy: 0.5787 - val_precision: 0.8503 - val_recall: 0.3989 - lr: 0.0010\n",
            "Epoch 9/200\n",
            "6/6 [==============================] - ETA: 0s - loss: 0.5642 - accuracy: 0.6615 - precision: 0.8551 - recall: 0.4684"
          ]
        },
        {
          "name": "stderr",
          "output_type": "stream",
          "text": [
            "WARNING:absl:Found untraced functions such as lstm_cell_layer_call_fn, lstm_cell_layer_call_and_return_conditional_losses, lstm_cell_1_layer_call_fn, lstm_cell_1_layer_call_and_return_conditional_losses while saving (showing 4 of 4). These functions will not be directly callable after loading.\n"
          ]
        },
        {
          "name": "stdout",
          "output_type": "stream",
          "text": [
            "6/6 [==============================] - 14s 3s/step - loss: 0.5642 - accuracy: 0.6615 - precision: 0.8551 - recall: 0.4684 - val_loss: 0.7110 - val_accuracy: 0.6039 - val_precision: 0.7250 - val_recall: 0.4073 - lr: 0.0010\n",
            "Epoch 10/200\n",
            "6/6 [==============================] - ETA: 0s - loss: 0.5338 - accuracy: 0.7254 - precision: 0.7829 - recall: 0.4761"
          ]
        },
        {
          "name": "stderr",
          "output_type": "stream",
          "text": [
            "WARNING:absl:Found untraced functions such as lstm_cell_layer_call_fn, lstm_cell_layer_call_and_return_conditional_losses, lstm_cell_1_layer_call_fn, lstm_cell_1_layer_call_and_return_conditional_losses while saving (showing 4 of 4). These functions will not be directly callable after loading.\n"
          ]
        },
        {
          "name": "stdout",
          "output_type": "stream",
          "text": [
            "6/6 [==============================] - 14s 3s/step - loss: 0.5338 - accuracy: 0.7254 - precision: 0.7829 - recall: 0.4761 - val_loss: 0.6876 - val_accuracy: 0.6404 - val_precision: 0.8187 - val_recall: 0.4185 - lr: 0.0010\n",
            "Epoch 11/200\n",
            "6/6 [==============================] - ETA: 0s - loss: 0.4949 - accuracy: 0.8287 - precision: 0.9337 - recall: 0.6032"
          ]
        },
        {
          "name": "stderr",
          "output_type": "stream",
          "text": [
            "WARNING:absl:Found untraced functions such as lstm_cell_layer_call_fn, lstm_cell_layer_call_and_return_conditional_losses, lstm_cell_1_layer_call_fn, lstm_cell_1_layer_call_and_return_conditional_losses while saving (showing 4 of 4). These functions will not be directly callable after loading.\n"
          ]
        },
        {
          "name": "stdout",
          "output_type": "stream",
          "text": [
            "6/6 [==============================] - 14s 3s/step - loss: 0.4949 - accuracy: 0.8287 - precision: 0.9337 - recall: 0.6032 - val_loss: 0.6586 - val_accuracy: 0.7528 - val_precision: 0.9321 - val_recall: 0.5787 - lr: 0.0010\n",
            "Epoch 12/200\n",
            "6/6 [==============================] - ETA: 0s - loss: 0.4350 - accuracy: 0.9347 - precision: 0.9903 - recall: 0.7900"
          ]
        },
        {
          "name": "stderr",
          "output_type": "stream",
          "text": [
            "WARNING:absl:Found untraced functions such as lstm_cell_layer_call_fn, lstm_cell_layer_call_and_return_conditional_losses, lstm_cell_1_layer_call_fn, lstm_cell_1_layer_call_and_return_conditional_losses while saving (showing 4 of 4). These functions will not be directly callable after loading.\n"
          ]
        },
        {
          "name": "stdout",
          "output_type": "stream",
          "text": [
            "6/6 [==============================] - 14s 3s/step - loss: 0.4350 - accuracy: 0.9347 - precision: 0.9903 - recall: 0.7900 - val_loss: 0.6172 - val_accuracy: 0.8118 - val_precision: 0.9254 - val_recall: 0.6966 - lr: 0.0010\n",
            "Epoch 13/200\n",
            "6/6 [==============================] - ETA: 0s - loss: 0.3620 - accuracy: 0.9558 - precision: 0.9918 - recall: 0.8532"
          ]
        },
        {
          "name": "stderr",
          "output_type": "stream",
          "text": [
            "WARNING:absl:Found untraced functions such as lstm_cell_layer_call_fn, lstm_cell_layer_call_and_return_conditional_losses, lstm_cell_1_layer_call_fn, lstm_cell_1_layer_call_and_return_conditional_losses while saving (showing 4 of 4). These functions will not be directly callable after loading.\n"
          ]
        },
        {
          "name": "stdout",
          "output_type": "stream",
          "text": [
            "6/6 [==============================] - 14s 3s/step - loss: 0.3620 - accuracy: 0.9558 - precision: 0.9918 - recall: 0.8532 - val_loss: 0.5435 - val_accuracy: 0.8287 - val_precision: 0.9193 - val_recall: 0.7360 - lr: 0.0010\n",
            "Epoch 14/200\n",
            "6/6 [==============================] - ETA: 0s - loss: 0.3038 - accuracy: 0.9754 - precision: 0.9918 - recall: 0.9354"
          ]
        },
        {
          "name": "stderr",
          "output_type": "stream",
          "text": [
            "WARNING:absl:Found untraced functions such as lstm_cell_layer_call_fn, lstm_cell_layer_call_and_return_conditional_losses, lstm_cell_1_layer_call_fn, lstm_cell_1_layer_call_and_return_conditional_losses while saving (showing 4 of 4). These functions will not be directly callable after loading.\n"
          ]
        },
        {
          "name": "stdout",
          "output_type": "stream",
          "text": [
            "6/6 [==============================] - 14s 3s/step - loss: 0.3038 - accuracy: 0.9754 - precision: 0.9918 - recall: 0.9354 - val_loss: 0.4850 - val_accuracy: 0.8876 - val_precision: 0.9214 - val_recall: 0.8230 - lr: 0.0010\n",
            "Epoch 15/200\n",
            "6/6 [==============================] - ETA: 0s - loss: 0.2444 - accuracy: 0.9881 - precision: 0.9957 - recall: 0.9754"
          ]
        },
        {
          "name": "stderr",
          "output_type": "stream",
          "text": [
            "WARNING:absl:Found untraced functions such as lstm_cell_layer_call_fn, lstm_cell_layer_call_and_return_conditional_losses, lstm_cell_1_layer_call_fn, lstm_cell_1_layer_call_and_return_conditional_losses while saving (showing 4 of 4). These functions will not be directly callable after loading.\n"
          ]
        },
        {
          "name": "stdout",
          "output_type": "stream",
          "text": [
            "6/6 [==============================] - 14s 3s/step - loss: 0.2444 - accuracy: 0.9881 - precision: 0.9957 - recall: 0.9754 - val_loss: 0.4385 - val_accuracy: 0.8764 - val_precision: 0.9059 - val_recall: 0.8652 - lr: 0.0010\n",
            "Epoch 16/200\n",
            "6/6 [==============================] - ETA: 0s - loss: 0.1781 - accuracy: 0.9965 - precision: 0.9979 - recall: 0.9902"
          ]
        },
        {
          "name": "stderr",
          "output_type": "stream",
          "text": [
            "WARNING:absl:Found untraced functions such as lstm_cell_layer_call_fn, lstm_cell_layer_call_and_return_conditional_losses, lstm_cell_1_layer_call_fn, lstm_cell_1_layer_call_and_return_conditional_losses while saving (showing 4 of 4). These functions will not be directly callable after loading.\n"
          ]
        },
        {
          "name": "stdout",
          "output_type": "stream",
          "text": [
            "6/6 [==============================] - 14s 3s/step - loss: 0.1781 - accuracy: 0.9965 - precision: 0.9979 - recall: 0.9902 - val_loss: 0.3780 - val_accuracy: 0.8848 - val_precision: 0.9020 - val_recall: 0.8792 - lr: 0.0010\n",
            "Epoch 17/200\n",
            "6/6 [==============================] - ETA: 0s - loss: 0.1217 - accuracy: 0.9972 - precision: 0.9993 - recall: 0.9972"
          ]
        },
        {
          "name": "stderr",
          "output_type": "stream",
          "text": [
            "WARNING:absl:Found untraced functions such as lstm_cell_layer_call_fn, lstm_cell_layer_call_and_return_conditional_losses, lstm_cell_1_layer_call_fn, lstm_cell_1_layer_call_and_return_conditional_losses while saving (showing 4 of 4). These functions will not be directly callable after loading.\n"
          ]
        },
        {
          "name": "stdout",
          "output_type": "stream",
          "text": [
            "6/6 [==============================] - 14s 3s/step - loss: 0.1217 - accuracy: 0.9972 - precision: 0.9993 - recall: 0.9972 - val_loss: 0.3372 - val_accuracy: 0.8961 - val_precision: 0.9023 - val_recall: 0.8820 - lr: 0.0010\n",
            "Epoch 18/200\n",
            "6/6 [==============================] - ETA: 0s - loss: 0.0875 - accuracy: 0.9993 - precision: 0.9993 - recall: 0.9986"
          ]
        },
        {
          "name": "stderr",
          "output_type": "stream",
          "text": [
            "WARNING:absl:Found untraced functions such as lstm_cell_layer_call_fn, lstm_cell_layer_call_and_return_conditional_losses, lstm_cell_1_layer_call_fn, lstm_cell_1_layer_call_and_return_conditional_losses while saving (showing 4 of 4). These functions will not be directly callable after loading.\n"
          ]
        },
        {
          "name": "stdout",
          "output_type": "stream",
          "text": [
            "6/6 [==============================] - 14s 3s/step - loss: 0.0875 - accuracy: 0.9993 - precision: 0.9993 - recall: 0.9986 - val_loss: 0.3053 - val_accuracy: 0.9157 - val_precision: 0.9200 - val_recall: 0.9045 - lr: 0.0010\n",
            "Epoch 19/200\n",
            "6/6 [==============================] - ETA: 0s - loss: 0.0661 - accuracy: 1.0000 - precision: 1.0000 - recall: 1.0000"
          ]
        },
        {
          "name": "stderr",
          "output_type": "stream",
          "text": [
            "WARNING:absl:Found untraced functions such as lstm_cell_layer_call_fn, lstm_cell_layer_call_and_return_conditional_losses, lstm_cell_1_layer_call_fn, lstm_cell_1_layer_call_and_return_conditional_losses while saving (showing 4 of 4). These functions will not be directly callable after loading.\n"
          ]
        },
        {
          "name": "stdout",
          "output_type": "stream",
          "text": [
            "6/6 [==============================] - 15s 3s/step - loss: 0.0661 - accuracy: 1.0000 - precision: 1.0000 - recall: 1.0000 - val_loss: 0.2831 - val_accuracy: 0.9270 - val_precision: 0.9268 - val_recall: 0.9242 - lr: 0.0010\n",
            "Epoch 20/200\n",
            "6/6 [==============================] - 6s 1s/step - loss: 0.0529 - accuracy: 1.0000 - precision: 1.0000 - recall: 1.0000 - val_loss: 0.2838 - val_accuracy: 0.9213 - val_precision: 0.9237 - val_recall: 0.9185 - lr: 0.0010\n",
            "Epoch 21/200\n",
            "6/6 [==============================] - ETA: 0s - loss: 0.0440 - accuracy: 1.0000 - precision: 1.0000 - recall: 1.0000"
          ]
        },
        {
          "name": "stderr",
          "output_type": "stream",
          "text": [
            "WARNING:absl:Found untraced functions such as lstm_cell_layer_call_fn, lstm_cell_layer_call_and_return_conditional_losses, lstm_cell_1_layer_call_fn, lstm_cell_1_layer_call_and_return_conditional_losses while saving (showing 4 of 4). These functions will not be directly callable after loading.\n"
          ]
        },
        {
          "name": "stdout",
          "output_type": "stream",
          "text": [
            "6/6 [==============================] - 14s 3s/step - loss: 0.0440 - accuracy: 1.0000 - precision: 1.0000 - recall: 1.0000 - val_loss: 0.2812 - val_accuracy: 0.9242 - val_precision: 0.9266 - val_recall: 0.9213 - lr: 0.0010\n",
            "Epoch 22/200\n",
            "6/6 [==============================] - 6s 1s/step - loss: 0.0376 - accuracy: 1.0000 - precision: 1.0000 - recall: 1.0000 - val_loss: 0.2843 - val_accuracy: 0.9242 - val_precision: 0.9263 - val_recall: 0.9185 - lr: 0.0010\n",
            "Epoch 23/200\n",
            "6/6 [==============================] - ETA: 0s - loss: 0.0329 - accuracy: 1.0000 - precision: 1.0000 - recall: 1.0000"
          ]
        },
        {
          "name": "stderr",
          "output_type": "stream",
          "text": [
            "WARNING:absl:Found untraced functions such as lstm_cell_layer_call_fn, lstm_cell_layer_call_and_return_conditional_losses, lstm_cell_1_layer_call_fn, lstm_cell_1_layer_call_and_return_conditional_losses while saving (showing 4 of 4). These functions will not be directly callable after loading.\n"
          ]
        },
        {
          "name": "stdout",
          "output_type": "stream",
          "text": [
            "6/6 [==============================] - 14s 3s/step - loss: 0.0329 - accuracy: 1.0000 - precision: 1.0000 - recall: 1.0000 - val_loss: 0.2811 - val_accuracy: 0.9270 - val_precision: 0.9266 - val_recall: 0.9213 - lr: 0.0010\n",
            "Epoch 24/200\n",
            "6/6 [==============================] - ETA: 0s - loss: 0.0291 - accuracy: 1.0000 - precision: 1.0000 - recall: 1.0000"
          ]
        },
        {
          "name": "stderr",
          "output_type": "stream",
          "text": [
            "WARNING:absl:Found untraced functions such as lstm_cell_layer_call_fn, lstm_cell_layer_call_and_return_conditional_losses, lstm_cell_1_layer_call_fn, lstm_cell_1_layer_call_and_return_conditional_losses while saving (showing 4 of 4). These functions will not be directly callable after loading.\n"
          ]
        },
        {
          "name": "stdout",
          "output_type": "stream",
          "text": [
            "6/6 [==============================] - 14s 3s/step - loss: 0.0291 - accuracy: 1.0000 - precision: 1.0000 - recall: 1.0000 - val_loss: 0.2804 - val_accuracy: 0.9213 - val_precision: 0.9290 - val_recall: 0.9185 - lr: 0.0010\n",
            "Epoch 25/200\n",
            "6/6 [==============================] - 6s 1s/step - loss: 0.0262 - accuracy: 1.0000 - precision: 1.0000 - recall: 1.0000 - val_loss: 0.2842 - val_accuracy: 0.9213 - val_precision: 0.9266 - val_recall: 0.9213 - lr: 0.0010\n",
            "Epoch 26/200\n",
            "6/6 [==============================] - 7s 1s/step - loss: 0.0237 - accuracy: 1.0000 - precision: 1.0000 - recall: 1.0000 - val_loss: 0.2963 - val_accuracy: 0.9185 - val_precision: 0.9237 - val_recall: 0.9185 - lr: 0.0010\n",
            "Epoch 27/200\n",
            "6/6 [==============================] - 7s 1s/step - loss: 0.0216 - accuracy: 1.0000 - precision: 1.0000 - recall: 1.0000 - val_loss: 0.3062 - val_accuracy: 0.9185 - val_precision: 0.9211 - val_recall: 0.9185 - lr: 0.0010\n",
            "Epoch 28/200\n",
            "6/6 [==============================] - 6s 1s/step - loss: 0.0199 - accuracy: 1.0000 - precision: 1.0000 - recall: 1.0000 - val_loss: 0.3130 - val_accuracy: 0.9185 - val_precision: 0.9211 - val_recall: 0.9185 - lr: 0.0010\n",
            "Epoch 29/200\n",
            "6/6 [==============================] - 6s 1s/step - loss: 0.0184 - accuracy: 1.0000 - precision: 1.0000 - recall: 1.0000 - val_loss: 0.3266 - val_accuracy: 0.9157 - val_precision: 0.9183 - val_recall: 0.9157 - lr: 0.0010\n"
          ]
        }
      ],
      "source": [
        "history = model.fit(train_data,\n",
        "                    train_labels,\n",
        "                    epochs = 200,\n",
        "                    batch_size=256,\n",
        "                    callbacks = callbacks_list,\n",
        "                    validation_split=.2)"
      ]
    },
    {
      "cell_type": "markdown",
      "metadata": {
        "id": "6wcCrQY7wejP"
      },
      "source": [
        "---\n",
        "<font color=green>Q15:</font>\n",
        "<br><font color='green'>\n",
        "Test your model on the test data\n",
        "</font>\n",
        "\n",
        "---"
      ]
    },
    {
      "cell_type": "code",
      "execution_count": null,
      "metadata": {
        "colab": {
          "background_save": true
        },
        "id": "xza2c16O8dMl",
        "outputId": "63ab8ac2-c931-4483-d218-aac4e0324c7d"
      },
      "outputs": [
        {
          "name": "stdout",
          "output_type": "stream",
          "text": [
            "14/14 [==============================] - 1s 63ms/step - loss: 0.2415 - accuracy: 0.9348 - precision: 0.9388 - recall: 0.9303\n"
          ]
        },
        {
          "data": {
            "text/plain": [
              "[0.24149012565612793,\n",
              " 0.934831440448761,\n",
              " 0.9387755393981934,\n",
              " 0.9303370714187622]"
            ]
          },
          "execution_count": 45,
          "metadata": {},
          "output_type": "execute_result"
        }
      ],
      "source": [
        "# Evaluate the model\n",
        "model.evaluate(test_data, test_labels)\n",
        "# model.predict(test_data) -> predictions -> compare predictions (N_test, K) with test_labels (N_test, K)"
      ]
    },
    {
      "cell_type": "markdown",
      "metadata": {
        "id": "iF0p3wG3wfcq"
      },
      "source": [
        "---\n",
        "<font color=green>Q16:</font>\n",
        "<br><font color='green'>\n",
        "Plot the training and validation loss\n",
        "</font>\n",
        "\n",
        "---"
      ]
    },
    {
      "cell_type": "code",
      "execution_count": null,
      "metadata": {
        "colab": {
          "background_save": true
        },
        "id": "7yaIvxYbd36U",
        "outputId": "0eafb397-a1bc-469c-8184-5784e2165b45"
      },
      "outputs": [
        {
          "data": {
            "image/png": "[encoded data removed]",
            "text/plain": [
              "<Figure size 720x504 with 1 Axes>"
            ]
          },
          "metadata": {},
          "output_type": "display_data"
        }
      ],
      "source": [
        "figure = plt.figure(figsize = (10, 7))\n",
        "plt.plot(history.history[\"loss\"], label = \"Train_loss\")\n",
        "plt.plot(history.history[\"val_loss\"], label = \"Validation_loss\")\n",
        "plt.xlabel(\"epochs\")\n",
        "plt.ylabel(\"Loss\")\n",
        "plt.title(\"Train vs Validation Loss\")\n",
        "plt.legend()\n",
        "plt.show()"
      ]
    },
    {
      "cell_type": "markdown",
      "metadata": {
        "id": "1PIinMztwkPA"
      },
      "source": [
        "---\n",
        "<font color=green>Q17:</font>\n",
        "<br><font color='green'>\n",
        "Plot the training and validation accuracy\n",
        "</font>\n",
        "\n",
        "---"
      ]
    },
    {
      "cell_type": "code",
      "execution_count": null,
      "metadata": {
        "colab": {
          "background_save": true
        },
        "id": "6i-Czh21d33w",
        "outputId": "d6c4b7dd-fbb1-47f4-db64-88b550ff7762"
      },
      "outputs": [
        {
          "data": {
            "image/png": "[encoded data removed]",
            "text/plain": [
              "<Figure size 720x504 with 1 Axes>"
            ]
          },
          "metadata": {},
          "output_type": "display_data"
        }
      ],
      "source": [
        "figure = plt.figure(figsize = (10, 7))\n",
        "plt.plot(history.history[\"accuracy\"], label = \"Train_accuracy\")\n",
        "plt.plot(history.history[\"val_accuracy\"], label = \"Validation_accuracy\")\n",
        "plt.xlabel(\"epochs\")\n",
        "plt.ylabel(\"Accuracy\")\n",
        "plt.title(\"Train vs Validation Accurcy\")\n",
        "plt.legend()\n",
        "plt.show()"
      ]
    },
    {
      "cell_type": "markdown",
      "metadata": {
        "id": "DGaemsu4wky4"
      },
      "source": [
        "---\n",
        "<font color=green>Q18:</font>\n",
        "<br><font color='green'>\n",
        "Plot the training and validation precision\n",
        "</font>\n",
        "\n",
        "---"
      ]
    },
    {
      "cell_type": "code",
      "execution_count": null,
      "metadata": {
        "colab": {
          "background_save": true
        },
        "id": "SZeoWZzDyFh2",
        "outputId": "a2e458ed-6301-4645-ca62-42c313ee419e"
      },
      "outputs": [
        {
          "data": {
            "image/png": "[encoded data removed]",
            "text/plain": [
              "<Figure size 720x504 with 1 Axes>"
            ]
          },
          "metadata": {},
          "output_type": "display_data"
        }
      ],
      "source": [
        "figure = plt.figure(figsize = (10, 7))\n",
        "plt.plot(history.history[\"precision\"], label = \"Train_precision\")\n",
        "plt.plot(history.history[\"val_precision\"], label = \"Validation_precision\")\n",
        "plt.xlabel(\"epochs\")\n",
        "plt.ylabel(\"Precision\")\n",
        "plt.title(\"Train vs Validation Precision\")\n",
        "plt.legend()\n",
        "plt.show()"
      ]
    },
    {
      "cell_type": "markdown",
      "metadata": {
        "id": "KLN4_OPEwmsw"
      },
      "source": [
        "---\n",
        "<font color=green>Q19:</font>\n",
        "<br><font color='green'>\n",
        "Plot the training and validation recall\n",
        "</font>\n",
        "\n",
        "---"
      ]
    },
    {
      "cell_type": "code",
      "execution_count": null,
      "metadata": {
        "colab": {
          "background_save": true
        },
        "id": "waO_Xuk1yYeJ",
        "outputId": "61b3e889-b70a-4260-d961-8e9721394098"
      },
      "outputs": [
        {
          "data": {
            "image/png": "[encoded data removed]",
            "text/plain": [
              "<Figure size 720x504 with 1 Axes>"
            ]
          },
          "metadata": {},
          "output_type": "display_data"
        }
      ],
      "source": [
        "figure = plt.figure(figsize = (10, 7))\n",
        "plt.plot(history.history[\"recall\"], label = \"Train_recall\")\n",
        "plt.plot(history.history[\"val_recall\"], label = \"Validation_recall\")\n",
        "plt.xlabel(\"epochs\")\n",
        "plt.ylabel(\"Recall\")\n",
        "plt.title(\"Train vs Validation Recall\")\n",
        "plt.legend()\n",
        "plt.show()"
      ]
    },
    {
      "cell_type": "markdown",
      "metadata": {
        "id": "aWZZOZywzQVk"
      },
      "source": [
        "---\n",
        "<font color=green>Q20:</font>\n",
        "<br><font color='green'>\n",
        "Plot the confusion matrix using the following function\n",
        "</font>\n",
        "\n",
        "---"
      ]
    },
    {
      "cell_type": "code",
      "execution_count": null,
      "metadata": {
        "colab": {
          "background_save": true
        },
        "id": "q9L7npbnzQd9"
      },
      "outputs": [],
      "source": [
        "# Import Modules\n",
        "from sklearn.metrics import confusion_matrix\n",
        "import seaborn as sns\n",
        "\n",
        "\n",
        "# Functin to plot the confusion matrix\n",
        "def plot_confusion_matrix(y_test, y_hat):\n",
        "  fig = plt.figure(figsize=(10, 8))\n",
        "  g = sns.heatmap(confusion_matrix(y_test, y_hat),\n",
        "              annot=True,\n",
        "              fmt=\"0.0f\")\n",
        "  g.set_xlabel(\"Predicted\")\n",
        "  g.set_ylabel(\"Actual\")\n",
        "  g.set_title(\"Confusion Matrix on the test set\")\n",
        "  plt.show()"
      ]
    },
    {
      "cell_type": "code",
      "execution_count": null,
      "metadata": {
        "colab": {
          "background_save": true
        },
        "id": "-yuJoY9VznfI",
        "outputId": "b4df720e-acd9-4a78-9e5f-418a4bf03971"
      },
      "outputs": [
        {
          "name": "stdout",
          "output_type": "stream",
          "text": [
            "14/14 [==============================] - 2s 60ms/step\n"
          ]
        },
        {
          "data": {
            "image/png": "[encoded data removed]",
            "text/plain": [
              "<Figure size 720x576 with 2 Axes>"
            ]
          },
          "metadata": {},
          "output_type": "display_data"
        }
      ],
      "source": [
        "# Get the prediction in the (N, K) shape\n",
        "prediction = model.predict(test_data)\n",
        "\n",
        "# Transform it into the shape (N,)\n",
        "y_pred = np.argmax(prediction, axis=1)\n",
        "y_true = np.argmax(test_labels, axis=1)\n",
        "\n",
        "# Plot the confusion matrix\n",
        "plot_confusion_matrix(y_true, y_pred)\n"
      ]
    },
    {
      "cell_type": "markdown",
      "metadata": {
        "id": "93er6gDBMdyt"
      },
      "source": [
        "## 3.2 Training the embedding matrix"
      ]
    },
    {
      "cell_type": "markdown",
      "metadata": {
        "id": "ZhYLoV87woFq"
      },
      "source": [
        "---\n",
        "<font color=green>Q20:</font>\n",
        "<br><font color='green'>\n",
        "Create the following model\n",
        "</font>\n",
        "\n",
        "---"
      ]
    },
    {
      "cell_type": "markdown",
      "metadata": {
        "id": "BznOq1_K0aPm"
      },
      "source": [
        "<center><img width=“700\" src = \"https://drive.google.com/uc?export=view&id=1FXc2jWEuuodqtu68Qeac33_V6J-mE__n\"></center>"
      ]
    },
    {
      "cell_type": "code",
      "execution_count": null,
      "metadata": {
        "colab": {
          "background_save": true
        },
        "id": "amGqxySpd31E",
        "outputId": "525dcc69-6ad3-4b4f-965b-832e90a6253d"
      },
      "outputs": [
        {
          "name": "stdout",
          "output_type": "stream",
          "text": [
            "Model: \"sequential\"\n",
            "______________________________________________________________________________________________________________________________________________________\n",
            " Layer (type)                                                      Output Shape                                                Param #                \n",
            "======================================================================================================================================================\n",
            " embedding_1 (Embedding)                                           (None, 300, 200)                                            2000000                \n",
            "                                                                                                                                                      \n",
            " bidirectional (Bidirectional)                                     (None, 64)                                                  59648                  \n",
            "                                                                                                                                                      \n",
            " dense (Dense)                                                     (None, 5)                                                   325                    \n",
            "                                                                                                                                                      \n",
            "======================================================================================================================================================\n",
            "Total params: 2,059,973\n",
            "Trainable params: 2,059,973\n",
            "Non-trainable params: 0\n",
            "______________________________________________________________________________________________________________________________________________________\n"
          ]
        }
      ],
      "source": [
        "from tensorflow.keras.models import Sequential\n",
        "from tensorflow.keras.layers import Embedding, Bidirectional, LSTM, Dense\n",
        "\n",
        "# Set hyperparameters\n",
        "d_1 = 32 # output dimension of the first LSTM layer\n",
        "d_2 = 32 # output dimension of the second LSTM layer\n",
        "K = 5 # Output dimension of the last layer\n",
        "\n",
        "\n",
        "model = Sequential()\n",
        "model.add(Embedding(V, D, input_length=T))\n",
        "model.add(Bidirectional(LSTM(d_1, return_sequences = False)))\n",
        "model.add(Dense(K, activation = \"softmax\"))\n",
        "model.summary(line_length=150)"
      ]
    },
    {
      "cell_type": "markdown",
      "metadata": {
        "id": "N4gzLre6wpEB"
      },
      "source": [
        "---\n",
        "<font color=green>Q21:</font>\n",
        "<br><font color='green'>\n",
        "Fit your new model to the training data. Plot the tranining and validation loss,accuracy, precision and recall. Then, evaluate your model on the test data\n",
        "</font>\n",
        "\n",
        "---"
      ]
    },
    {
      "cell_type": "code",
      "execution_count": null,
      "metadata": {
        "colab": {
          "background_save": true
        },
        "id": "QOnhVyj6Vj5G",
        "outputId": "81ec7349-f44c-4ec2-c7de-3aedbc30a5e1"
      },
      "outputs": [
        {
          "name": "stdout",
          "output_type": "stream",
          "text": [
            "Epoch 1/200\n",
            "6/6 [==============================] - 14s 2s/step - loss: 1.5989 - accuracy: 0.2563 - precision: 0.9388 - recall: 0.2215 - val_loss: 1.5924 - val_accuracy: 0.2360 - val_precision: 0.0000e+00 - val_recall: 0.0000e+00 - lr: 0.0010\n",
            "Epoch 2/200\n",
            "6/6 [==============================] - 9s 2s/step - loss: 1.5577 - accuracy: 0.3069 - precision: 0.0000e+00 - recall: 0.0000e+00 - val_loss: 1.5768 - val_accuracy: 0.2472 - val_precision: 0.0000e+00 - val_recall: 0.0000e+00 - lr: 0.0010\n",
            "Epoch 3/200\n",
            "6/6 [==============================] - 11s 2s/step - loss: 1.5085 - accuracy: 0.3603 - precision: 0.0000e+00 - recall: 0.0000e+00 - val_loss: 1.5433 - val_accuracy: 0.3202 - val_precision: 0.0000e+00 - val_recall: 0.0000e+00 - lr: 0.0010\n",
            "Epoch 4/200\n",
            "6/6 [==============================] - 9s 2s/step - loss: 1.4210 - accuracy: 0.5674 - precision: 0.0000e+00 - recall: 0.0000e+00 - val_loss: 1.4564 - val_accuracy: 0.4747 - val_precision: 0.0000e+00 - val_recall: 0.0000e+00 - lr: 0.0010\n",
            "Epoch 5/200\n",
            "6/6 [==============================] - 10s 2s/step - loss: 1.2378 - accuracy: 0.6657 - precision: 1.0000 - recall: 0.0021 - val_loss: 1.2518 - val_accuracy: 0.5253 - val_precision: 1.0000 - val_recall: 0.0225 - lr: 0.0010\n",
            "Epoch 6/200\n",
            "6/6 [==============================] - 9s 1s/step - loss: 0.9774 - accuracy: 0.7556 - precision: 1.0000 - recall: 0.3174 - val_loss: 1.0485 - val_accuracy: 0.6545 - val_precision: 0.9412 - val_recall: 0.3146 - lr: 0.0010\n",
            "Epoch 7/200\n",
            "6/6 [==============================] - 9s 2s/step - loss: 0.7594 - accuracy: 0.8420 - precision: 0.9876 - recall: 0.5042 - val_loss: 0.8946 - val_accuracy: 0.7022 - val_precision: 0.8976 - val_recall: 0.4185 - lr: 0.0010\n",
            "Epoch 8/200\n",
            "6/6 [==============================] - 10s 2s/step - loss: 0.5800 - accuracy: 0.9368 - precision: 0.9858 - recall: 0.6833 - val_loss: 0.7138 - val_accuracy: 0.8567 - val_precision: 0.9272 - val_recall: 0.5365 - lr: 0.0010\n",
            "Epoch 9/200\n",
            "6/6 [==============================] - 9s 1s/step - loss: 0.4443 - accuracy: 0.9817 - precision: 0.9962 - recall: 0.9221 - val_loss: 0.5995 - val_accuracy: 0.8848 - val_precision: 0.9522 - val_recall: 0.7837 - lr: 0.0010\n",
            "Epoch 10/200\n",
            "6/6 [==============================] - 9s 2s/step - loss: 0.3426 - accuracy: 0.9881 - precision: 0.9943 - recall: 0.9775 - val_loss: 0.5090 - val_accuracy: 0.8961 - val_precision: 0.9256 - val_recall: 0.8736 - lr: 0.0010\n",
            "Epoch 11/200\n",
            "6/6 [==============================] - 9s 1s/step - loss: 0.2648 - accuracy: 0.9916 - precision: 0.9965 - recall: 0.9860 - val_loss: 0.4754 - val_accuracy: 0.8933 - val_precision: 0.9104 - val_recall: 0.8567 - lr: 0.0010\n",
            "Epoch 12/200\n",
            "6/6 [==============================] - 10s 2s/step - loss: 0.2166 - accuracy: 0.9972 - precision: 0.9979 - recall: 0.9958 - val_loss: 0.4868 - val_accuracy: 0.8764 - val_precision: 0.8977 - val_recall: 0.8624 - lr: 0.0010\n",
            "Epoch 13/200\n",
            "6/6 [==============================] - 9s 2s/step - loss: 0.1818 - accuracy: 0.9944 - precision: 0.9944 - recall: 0.9944 - val_loss: 0.4764 - val_accuracy: 0.8736 - val_precision: 0.8983 - val_recall: 0.8680 - lr: 0.0010\n",
            "Epoch 14/200\n",
            "6/6 [==============================] - 9s 1s/step - loss: 0.1478 - accuracy: 0.9972 - precision: 0.9972 - recall: 0.9972 - val_loss: 0.4186 - val_accuracy: 0.9017 - val_precision: 0.9054 - val_recall: 0.8876 - lr: 0.0010\n",
            "Epoch 15/200\n",
            "6/6 [==============================] - 8s 1s/step - loss: 0.1247 - accuracy: 0.9986 - precision: 0.9986 - recall: 0.9979 - val_loss: 0.4126 - val_accuracy: 0.8961 - val_precision: 0.9109 - val_recall: 0.8904 - lr: 0.0010\n",
            "Epoch 16/200\n",
            "6/6 [==============================] - 9s 1s/step - loss: 0.1058 - accuracy: 0.9986 - precision: 0.9986 - recall: 0.9979 - val_loss: 0.4584 - val_accuracy: 0.8708 - val_precision: 0.8800 - val_recall: 0.8652 - lr: 0.0010\n",
            "Epoch 17/200\n",
            "6/6 [==============================] - 9s 1s/step - loss: 0.0908 - accuracy: 0.9986 - precision: 0.9986 - recall: 0.9986 - val_loss: 0.4215 - val_accuracy: 0.8876 - val_precision: 0.8927 - val_recall: 0.8876 - lr: 0.0010\n",
            "Epoch 18/200\n",
            "6/6 [==============================] - 8s 1s/step - loss: 0.0803 - accuracy: 0.9986 - precision: 0.9986 - recall: 0.9986 - val_loss: 0.4154 - val_accuracy: 0.8904 - val_precision: 0.8901 - val_recall: 0.8876 - lr: 0.0010\n",
            "Epoch 19/200\n",
            "6/6 [==============================] - 9s 1s/step - loss: 0.0678 - accuracy: 1.0000 - precision: 1.0000 - recall: 1.0000 - val_loss: 0.4256 - val_accuracy: 0.8848 - val_precision: 0.8873 - val_recall: 0.8848 - lr: 0.0010\n",
            "Epoch 20/200\n",
            "6/6 [==============================] - 9s 1s/step - loss: 0.0618 - accuracy: 0.9993 - precision: 0.9993 - recall: 0.9993 - val_loss: 0.4120 - val_accuracy: 0.8820 - val_precision: 0.8817 - val_recall: 0.8792 - lr: 0.0010\n",
            "Epoch 21/200\n",
            "6/6 [==============================] - 8s 1s/step - loss: 0.0573 - accuracy: 0.9993 - precision: 0.9993 - recall: 0.9993 - val_loss: 0.3386 - val_accuracy: 0.9017 - val_precision: 0.9060 - val_recall: 0.8933 - lr: 0.0010\n",
            "Epoch 22/200\n",
            "6/6 [==============================] - 9s 1s/step - loss: 0.0546 - accuracy: 0.9979 - precision: 0.9979 - recall: 0.9979 - val_loss: 0.3468 - val_accuracy: 0.8933 - val_precision: 0.8980 - val_recall: 0.8904 - lr: 0.0010\n",
            "Epoch 23/200\n",
            "6/6 [==============================] - 9s 1s/step - loss: 0.0455 - accuracy: 1.0000 - precision: 1.0000 - recall: 0.9993 - val_loss: 0.3560 - val_accuracy: 0.8989 - val_precision: 0.9037 - val_recall: 0.8961 - lr: 0.0010\n",
            "Epoch 24/200\n",
            "6/6 [==============================] - 9s 1s/step - loss: 0.0435 - accuracy: 0.9993 - precision: 0.9993 - recall: 0.9993 - val_loss: 0.3632 - val_accuracy: 0.9045 - val_precision: 0.9042 - val_recall: 0.9017 - lr: 0.0010\n",
            "Epoch 25/200\n",
            "6/6 [==============================] - 8s 1s/step - loss: 0.0421 - accuracy: 0.9986 - precision: 0.9986 - recall: 0.9986 - val_loss: 0.3840 - val_accuracy: 0.8961 - val_precision: 0.9011 - val_recall: 0.8961 - lr: 0.0010\n",
            "Epoch 26/200\n",
            "6/6 [==============================] - 10s 2s/step - loss: 0.0365 - accuracy: 0.9993 - precision: 0.9993 - recall: 0.9993 - val_loss: 0.4146 - val_accuracy: 0.8904 - val_precision: 0.8930 - val_recall: 0.8904 - lr: 0.0010\n",
            "Epoch 27/200\n",
            "6/6 [==============================] - 10s 2s/step - loss: 0.0334 - accuracy: 0.9993 - precision: 0.9993 - recall: 0.9993 - val_loss: 0.4124 - val_accuracy: 0.8904 - val_precision: 0.8930 - val_recall: 0.8904 - lr: 0.0010\n",
            "Epoch 28/200\n",
            "6/6 [==============================] - 9s 1s/step - loss: 0.0394 - accuracy: 0.9972 - precision: 0.9972 - recall: 0.9972 - val_loss: 0.4678 - val_accuracy: 0.8820 - val_precision: 0.8839 - val_recall: 0.8764 - lr: 0.0010\n",
            "Epoch 29/200\n",
            "6/6 [==============================] - 9s 2s/step - loss: 0.0337 - accuracy: 0.9986 - precision: 0.9986 - recall: 0.9979 - val_loss: 0.4167 - val_accuracy: 0.8792 - val_precision: 0.8937 - val_recall: 0.8736 - lr: 0.0010\n",
            "Epoch 30/200\n",
            "6/6 [==============================] - 9s 2s/step - loss: 0.0438 - accuracy: 0.9951 - precision: 0.9951 - recall: 0.9944 - val_loss: 0.4143 - val_accuracy: 0.8652 - val_precision: 0.8771 - val_recall: 0.8624 - lr: 0.0010\n",
            "Epoch 31/200\n",
            "6/6 [==============================] - 9s 1s/step - loss: 0.0373 - accuracy: 0.9965 - precision: 0.9965 - recall: 0.9965 - val_loss: 0.3695 - val_accuracy: 0.8792 - val_precision: 0.8854 - val_recall: 0.8680 - lr: 0.0010\n",
            "Epoch 32/200\n",
            "6/6 [==============================] - 9s 2s/step - loss: 0.0286 - accuracy: 0.9986 - precision: 0.9993 - recall: 0.9986 - val_loss: 0.3616 - val_accuracy: 0.8792 - val_precision: 0.8857 - val_recall: 0.8708 - lr: 1.0000e-04\n",
            "Epoch 33/200\n",
            "6/6 [==============================] - 9s 2s/step - loss: 0.0279 - accuracy: 0.9993 - precision: 0.9993 - recall: 0.9986 - val_loss: 0.3538 - val_accuracy: 0.8820 - val_precision: 0.8886 - val_recall: 0.8736 - lr: 1.0000e-04\n",
            "Epoch 34/200\n",
            "6/6 [==============================] - 10s 2s/step - loss: 0.0269 - accuracy: 0.9993 - precision: 0.9993 - recall: 0.9993 - val_loss: 0.3422 - val_accuracy: 0.8876 - val_precision: 0.8889 - val_recall: 0.8764 - lr: 1.0000e-04\n"
          ]
        }
      ],
      "source": [
        "model.compile(optimizer=\"adam\",\n",
        "              loss = \"categorical_crossentropy\",\n",
        "              metrics = METRICS)\n",
        "\n",
        "history = model.fit(train_data,\n",
        "                    train_labels,\n",
        "                    epochs = 200,\n",
        "                    batch_size=256,\n",
        "                    callbacks = callbacks_list,\n",
        "                    validation_split=.2)"
      ]
    },
    {
      "cell_type": "code",
      "execution_count": null,
      "metadata": {
        "colab": {
          "background_save": true
        },
        "id": "cdKj22jKd3vU",
        "outputId": "cacab9da-dd5b-422c-c1c7-8fb72aa4f344"
      },
      "outputs": [
        {
          "name": "stdout",
          "output_type": "stream",
          "text": [
            "14/14 [==============================] - 1s 69ms/step - loss: 0.2578 - accuracy: 0.9213 - precision: 0.9292 - recall: 0.9146\n"
          ]
        },
        {
          "data": {
            "text/plain": [
              "[0.2578347325325012,\n",
              " 0.9213483333587646,\n",
              " 0.9292237162590027,\n",
              " 0.9146067500114441]"
            ]
          },
          "execution_count": 54,
          "metadata": {},
          "output_type": "execute_result"
        }
      ],
      "source": [
        "# Evaluate the model\n",
        "model.evaluate(test_data, test_labels)"
      ]
    },
    {
      "cell_type": "code",
      "execution_count": null,
      "metadata": {
        "colab": {
          "background_save": true
        },
        "id": "tDsPJJFhd3qK",
        "outputId": "2cead154-62a2-49ea-b5f0-42c94a2ae0a0"
      },
      "outputs": [
        {
          "data": {
            "image/png": "[encoded data removed]",
            "text/plain": [
              "<Figure size 720x504 with 1 Axes>"
            ]
          },
          "metadata": {},
          "output_type": "display_data"
        }
      ],
      "source": [
        "figure = plt.figure(figsize = (10, 7))\n",
        "plt.plot(history.history[\"loss\"], label = \"Train_loss\")\n",
        "plt.plot(history.history[\"val_loss\"], label = \"Validation_loss\")\n",
        "plt.xlabel(\"epochs\")\n",
        "plt.ylabel(\"Loss\")\n",
        "plt.title(\"Train vs Validation Loss\")\n",
        "plt.legend()\n",
        "plt.show()"
      ]
    },
    {
      "cell_type": "code",
      "execution_count": null,
      "metadata": {
        "colab": {
          "background_save": true
        },
        "id": "NZCTNmy7y3Mi",
        "outputId": "aa7fe678-c20d-4b77-b89a-6dea4cf2341a"
      },
      "outputs": [
        {
          "data": {
            "image/png": "[encoded data removed]",
            "text/plain": [
              "<Figure size 720x504 with 1 Axes>"
            ]
          },
          "metadata": {},
          "output_type": "display_data"
        }
      ],
      "source": [
        "figure = plt.figure(figsize = (10, 7))\n",
        "plt.plot(history.history[\"accuracy\"], label = \"Train_accuracy\")\n",
        "plt.plot(history.history[\"val_accuracy\"], label = \"Validation_accuracy\")\n",
        "plt.xlabel(\"epochs\")\n",
        "plt.ylabel(\"Accuracy\")\n",
        "plt.title(\"Train vs Validation Accurcy\")\n",
        "plt.legend()\n",
        "plt.show()"
      ]
    },
    {
      "cell_type": "code",
      "execution_count": null,
      "metadata": {
        "colab": {
          "background_save": true
        },
        "id": "4lfeBU6Zy-tP",
        "outputId": "698587b6-dd52-42ca-80d7-70d57fe56e62"
      },
      "outputs": [
        {
          "data": {
            "image/png": "[encoded data removed]",
            "text/plain": [
              "<Figure size 720x504 with 1 Axes>"
            ]
          },
          "metadata": {},
          "output_type": "display_data"
        }
      ],
      "source": [
        "figure = plt.figure(figsize = (10, 7))\n",
        "plt.plot(history.history[\"precision\"], label = \"Train_precision\")\n",
        "plt.plot(history.history[\"val_precision\"], label = \"Validation_precision\")\n",
        "plt.xlabel(\"epochs\")\n",
        "plt.ylabel(\"Precision\")\n",
        "plt.title(\"Train vs Validation Precision\")\n",
        "plt.legend()\n",
        "plt.show()"
      ]
    },
    {
      "cell_type": "code",
      "execution_count": null,
      "metadata": {
        "colab": {
          "background_save": true
        },
        "id": "VR5PrXH5zB5-",
        "outputId": "6ae67be7-a245-4175-d575-ef112f0044f5"
      },
      "outputs": [
        {
          "data": {
            "image/png": "[encoded data removed]",
            "text/plain": [
              "<Figure size 720x504 with 1 Axes>"
            ]
          },
          "metadata": {},
          "output_type": "display_data"
        }
      ],
      "source": [
        "figure = plt.figure(figsize = (10, 7))\n",
        "plt.plot(history.history[\"recall\"], label = \"Train_recall\")\n",
        "plt.plot(history.history[\"val_recall\"], label = \"Validation_recall\")\n",
        "plt.xlabel(\"epochs\")\n",
        "plt.ylabel(\"Recall\")\n",
        "plt.title(\"Train vs Validation Recall\")\n",
        "plt.legend()\n",
        "plt.show()"
      ]
    },
    {
      "cell_type": "markdown",
      "metadata": {
        "id": "RbnihzVYz7Q-"
      },
      "source": [
        "---\n",
        "<font color=green>Q21:</font>\n",
        "<br><font color='green'>\n",
        "Plot the confusion matrix\n",
        "</font>\n",
        "\n",
        "---"
      ]
    },
    {
      "cell_type": "code",
      "execution_count": null,
      "metadata": {
        "colab": {
          "background_save": true
        },
        "id": "nv2Q7-uH0Bqf",
        "outputId": "7528fe1f-234e-43e6-a7c6-14c918a02efa"
      },
      "outputs": [
        {
          "name": "stdout",
          "output_type": "stream",
          "text": [
            "14/14 [==============================] - 2s 67ms/step\n"
          ]
        },
        {
          "data": {
            "image/png": "[encoded data removed]",
            "text/plain": [
              "<Figure size 720x576 with 2 Axes>"
            ]
          },
          "metadata": {},
          "output_type": "display_data"
        }
      ],
      "source": [
        "# Get the prediction in the (N, K) shape\n",
        "prediction = model.predict(test_data)\n",
        "\n",
        "# Transform it into the shape (N,)\n",
        "y_pred = np.argmax(prediction, axis=1)\n",
        "y_true = np.argmax(test_labels, axis=1)\n",
        "\n",
        "# Plot the confusion matrix\n",
        "plot_confusion_matrix(y_true, y_pred)"
      ]
    },
    {
      "cell_type": "markdown",
      "metadata": {
        "id": "1xy8N9ZZUW44"
      },
      "source": [
        "# Wrap-up"
      ]
    },
    {
      "cell_type": "markdown",
      "metadata": {
        "id": "Q640L1as0cFL"
      },
      "source": [
        "<center><img width=“700\" src = \"https://drive.google.com/uc?export=view&id=1UZuzjojifkjy8BaLXejXYwGCjzL4DJua\"></center>"
      ]
    },
    {
      "cell_type": "markdown",
      "metadata": {
        "id": "QmLB8jSfZr99"
      },
      "source": [
        "## To go further..."
      ]
    },
    {
      "cell_type": "markdown",
      "metadata": {
        "id": "yBX04kDZgE6W"
      },
      "source": [
        "As an exercise:\n",
        "\n",
        "* Change the hyperparameters and add some regularization to have the same performance on the training dataset and the test dataset.\n",
        "\n",
        "* Test different architectures on another dataset, stored in the folder \"data\": `news_headlines.csv`. This dataset contains the sentiments for financial news headlines from the perspective of a retail investor. Further details about the dataset can be found in: [Malo, P., Sinha, A., Takala, P., Korhonen, P. and Wallenius, J. (2014): “Good debt or bad debt: Detecting semantic orientations in economic texts.](https://arxiv.org/pdf/1307.5336.pdf)"
      ]
    },
    {
      "cell_type": "markdown",
      "metadata": {
        "id": "T_I-tM9dK3dY"
      },
      "source": [
        "## Contact\n",
        "\n",
        "If you have any question regarding this notebook, please do not hesitate to contact: hachem.madmoun@enpc.fr\n",
        "\n"
      ]
    },
    {
      "cell_type": "code",
      "execution_count": null,
      "metadata": {
        "colab": {
          "background_save": true
        },
        "id": "ZjRKvUGmpc0z"
      },
      "outputs": [],
      "source": []
    }
  ]
}